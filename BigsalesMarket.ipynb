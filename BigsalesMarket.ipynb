{
 "cells": [
  {
   "cell_type": "code",
   "execution_count": 1,
   "metadata": {},
   "outputs": [],
   "source": [
    "import pandas as pd\n",
    "import numpy as np\n",
    "%matplotlib inline\n",
    "import matplotlib.pyplot as plt\n",
    "import seaborn as sns"
   ]
  },
  {
   "cell_type": "code",
   "execution_count": 2,
   "metadata": {},
   "outputs": [],
   "source": [
    "df_train = pd.read_csv('Train.txt')\n",
    "df_test = pd.read_csv('Test.txt')"
   ]
  },
  {
   "cell_type": "code",
   "execution_count": 3,
   "metadata": {},
   "outputs": [
    {
     "data": {
      "text/html": [
       "<div>\n",
       "<style scoped>\n",
       "    .dataframe tbody tr th:only-of-type {\n",
       "        vertical-align: middle;\n",
       "    }\n",
       "\n",
       "    .dataframe tbody tr th {\n",
       "        vertical-align: top;\n",
       "    }\n",
       "\n",
       "    .dataframe thead th {\n",
       "        text-align: right;\n",
       "    }\n",
       "</style>\n",
       "<table border=\"1\" class=\"dataframe\">\n",
       "  <thead>\n",
       "    <tr style=\"text-align: right;\">\n",
       "      <th></th>\n",
       "      <th>Item_Identifier</th>\n",
       "      <th>Item_Weight</th>\n",
       "      <th>Item_Fat_Content</th>\n",
       "      <th>Item_Visibility</th>\n",
       "      <th>Item_Type</th>\n",
       "      <th>Item_MRP</th>\n",
       "      <th>Outlet_Identifier</th>\n",
       "      <th>Outlet_Establishment_Year</th>\n",
       "      <th>Outlet_Size</th>\n",
       "      <th>Outlet_Location_Type</th>\n",
       "      <th>Outlet_Type</th>\n",
       "      <th>Item_Outlet_Sales</th>\n",
       "    </tr>\n",
       "  </thead>\n",
       "  <tbody>\n",
       "    <tr>\n",
       "      <th>0</th>\n",
       "      <td>FDA15</td>\n",
       "      <td>9.30</td>\n",
       "      <td>Low Fat</td>\n",
       "      <td>0.016047</td>\n",
       "      <td>Dairy</td>\n",
       "      <td>249.8092</td>\n",
       "      <td>OUT049</td>\n",
       "      <td>1999</td>\n",
       "      <td>Medium</td>\n",
       "      <td>Tier 1</td>\n",
       "      <td>Supermarket Type1</td>\n",
       "      <td>3735.1380</td>\n",
       "    </tr>\n",
       "    <tr>\n",
       "      <th>1</th>\n",
       "      <td>DRC01</td>\n",
       "      <td>5.92</td>\n",
       "      <td>Regular</td>\n",
       "      <td>0.019278</td>\n",
       "      <td>Soft Drinks</td>\n",
       "      <td>48.2692</td>\n",
       "      <td>OUT018</td>\n",
       "      <td>2009</td>\n",
       "      <td>Medium</td>\n",
       "      <td>Tier 3</td>\n",
       "      <td>Supermarket Type2</td>\n",
       "      <td>443.4228</td>\n",
       "    </tr>\n",
       "    <tr>\n",
       "      <th>2</th>\n",
       "      <td>FDN15</td>\n",
       "      <td>17.50</td>\n",
       "      <td>Low Fat</td>\n",
       "      <td>0.016760</td>\n",
       "      <td>Meat</td>\n",
       "      <td>141.6180</td>\n",
       "      <td>OUT049</td>\n",
       "      <td>1999</td>\n",
       "      <td>Medium</td>\n",
       "      <td>Tier 1</td>\n",
       "      <td>Supermarket Type1</td>\n",
       "      <td>2097.2700</td>\n",
       "    </tr>\n",
       "    <tr>\n",
       "      <th>3</th>\n",
       "      <td>FDX07</td>\n",
       "      <td>19.20</td>\n",
       "      <td>Regular</td>\n",
       "      <td>0.000000</td>\n",
       "      <td>Fruits and Vegetables</td>\n",
       "      <td>182.0950</td>\n",
       "      <td>OUT010</td>\n",
       "      <td>1998</td>\n",
       "      <td>NaN</td>\n",
       "      <td>Tier 3</td>\n",
       "      <td>Grocery Store</td>\n",
       "      <td>732.3800</td>\n",
       "    </tr>\n",
       "    <tr>\n",
       "      <th>4</th>\n",
       "      <td>NCD19</td>\n",
       "      <td>8.93</td>\n",
       "      <td>Low Fat</td>\n",
       "      <td>0.000000</td>\n",
       "      <td>Household</td>\n",
       "      <td>53.8614</td>\n",
       "      <td>OUT013</td>\n",
       "      <td>1987</td>\n",
       "      <td>High</td>\n",
       "      <td>Tier 3</td>\n",
       "      <td>Supermarket Type1</td>\n",
       "      <td>994.7052</td>\n",
       "    </tr>\n",
       "  </tbody>\n",
       "</table>\n",
       "</div>"
      ],
      "text/plain": [
       "  Item_Identifier  Item_Weight Item_Fat_Content  Item_Visibility  \\\n",
       "0           FDA15         9.30          Low Fat         0.016047   \n",
       "1           DRC01         5.92          Regular         0.019278   \n",
       "2           FDN15        17.50          Low Fat         0.016760   \n",
       "3           FDX07        19.20          Regular         0.000000   \n",
       "4           NCD19         8.93          Low Fat         0.000000   \n",
       "\n",
       "               Item_Type  Item_MRP Outlet_Identifier  \\\n",
       "0                  Dairy  249.8092            OUT049   \n",
       "1            Soft Drinks   48.2692            OUT018   \n",
       "2                   Meat  141.6180            OUT049   \n",
       "3  Fruits and Vegetables  182.0950            OUT010   \n",
       "4              Household   53.8614            OUT013   \n",
       "\n",
       "   Outlet_Establishment_Year Outlet_Size Outlet_Location_Type  \\\n",
       "0                       1999      Medium               Tier 1   \n",
       "1                       2009      Medium               Tier 3   \n",
       "2                       1999      Medium               Tier 1   \n",
       "3                       1998         NaN               Tier 3   \n",
       "4                       1987        High               Tier 3   \n",
       "\n",
       "         Outlet_Type  Item_Outlet_Sales  \n",
       "0  Supermarket Type1          3735.1380  \n",
       "1  Supermarket Type2           443.4228  \n",
       "2  Supermarket Type1          2097.2700  \n",
       "3      Grocery Store           732.3800  \n",
       "4  Supermarket Type1           994.7052  "
      ]
     },
     "execution_count": 3,
     "metadata": {},
     "output_type": "execute_result"
    }
   ],
   "source": [
    "df_train.head(5)"
   ]
  },
  {
   "cell_type": "code",
   "execution_count": 4,
   "metadata": {
    "scrolled": false
   },
   "outputs": [
    {
     "name": "stdout",
     "output_type": "stream",
     "text": [
      "<class 'pandas.core.frame.DataFrame'>\n",
      "RangeIndex: 8523 entries, 0 to 8522\n",
      "Data columns (total 12 columns):\n",
      "Item_Identifier              8523 non-null object\n",
      "Item_Weight                  7060 non-null float64\n",
      "Item_Fat_Content             8523 non-null object\n",
      "Item_Visibility              8523 non-null float64\n",
      "Item_Type                    8523 non-null object\n",
      "Item_MRP                     8523 non-null float64\n",
      "Outlet_Identifier            8523 non-null object\n",
      "Outlet_Establishment_Year    8523 non-null int64\n",
      "Outlet_Size                  6113 non-null object\n",
      "Outlet_Location_Type         8523 non-null object\n",
      "Outlet_Type                  8523 non-null object\n",
      "Item_Outlet_Sales            8523 non-null float64\n",
      "dtypes: float64(4), int64(1), object(7)\n",
      "memory usage: 799.1+ KB\n"
     ]
    }
   ],
   "source": [
    "df_train.info()"
   ]
  },
  {
   "cell_type": "markdown",
   "metadata": {},
   "source": [
    "# EDA\n",
    "\n"
   ]
  },
  {
   "cell_type": "code",
   "execution_count": 5,
   "metadata": {},
   "outputs": [
    {
     "data": {
      "text/plain": [
       "FDW13    10\n",
       "FDG33    10\n",
       "NCL31     9\n",
       "FDP25     9\n",
       "FDF56     9\n",
       "FDG09     9\n",
       "FDT07     9\n",
       "NCI54     9\n",
       "DRE49     9\n",
       "FDX20     9\n",
       "Name: Item_Identifier, dtype: int64"
      ]
     },
     "execution_count": 5,
     "metadata": {},
     "output_type": "execute_result"
    }
   ],
   "source": [
    "df_train['Item_Identifier'].value_counts().head(10)"
   ]
  },
  {
   "cell_type": "code",
   "execution_count": 142,
   "metadata": {},
   "outputs": [
    {
     "data": {
      "text/plain": [
       "<matplotlib.axes._subplots.AxesSubplot at 0x215a5051c88>"
      ]
     },
     "execution_count": 142,
     "metadata": {},
     "output_type": "execute_result"
    },
    {
     "data": {
      "image/png": "[encoded data removed]",
      "text/plain": [
       "<Figure size 864x432 with 1 Axes>"
      ]
     },
     "metadata": {
      "needs_background": "light"
     },
     "output_type": "display_data"
    }
   ],
   "source": [
    "plt.figure(figsize = (12,6))\n",
    "sns.countplot(df_train['Outlet_Identifier'], hue = df_train['Outlet_Size'])"
   ]
  },
  {
   "cell_type": "code",
   "execution_count": null,
   "metadata": {},
   "outputs": [],
   "source": [
    "# OUT010,OUT017,OUT045 does not have any outlet size defined."
   ]
  },
  {
   "cell_type": "code",
   "execution_count": 6,
   "metadata": {},
   "outputs": [
    {
     "data": {
      "text/plain": [
       "Outlet_Identifier\n",
       "OUT010      0\n",
       "OUT013    932\n",
       "OUT017      0\n",
       "OUT018    928\n",
       "OUT019    528\n",
       "OUT027    935\n",
       "OUT035    930\n",
       "OUT045      0\n",
       "OUT046    930\n",
       "OUT049    930\n",
       "Name: Outlet_Size, dtype: int64"
      ]
     },
     "execution_count": 6,
     "metadata": {},
     "output_type": "execute_result"
    }
   ],
   "source": [
    "df_train.groupby('Outlet_Identifier')['Outlet_Size'].count()"
   ]
  },
  {
   "cell_type": "code",
   "execution_count": 144,
   "metadata": {},
   "outputs": [
    {
     "data": {
      "text/plain": [
       "Supermarket Type1    5577\n",
       "Grocery Store        1083\n",
       "Supermarket Type3     935\n",
       "Supermarket Type2     928\n",
       "Name: Outlet_Type, dtype: int64"
      ]
     },
     "execution_count": 144,
     "metadata": {},
     "output_type": "execute_result"
    }
   ],
   "source": [
    "\n",
    "df_train['Outlet_Type'].value_counts()"
   ]
  },
  {
   "cell_type": "code",
   "execution_count": 47,
   "metadata": {},
   "outputs": [],
   "source": [
    "# Max number of SuperMarket Type1 existing in Dataset."
   ]
  },
  {
   "cell_type": "code",
   "execution_count": 145,
   "metadata": {},
   "outputs": [
    {
     "data": {
      "text/plain": [
       "array(['Grocery Store'], dtype=object)"
      ]
     },
     "execution_count": 145,
     "metadata": {},
     "output_type": "execute_result"
    }
   ],
   "source": [
    "df_train[df_train.Outlet_Identifier == 'OUT010']['Outlet_Type'].unique()"
   ]
  },
  {
   "cell_type": "code",
   "execution_count": 146,
   "metadata": {},
   "outputs": [
    {
     "data": {
      "text/plain": [
       "array(['Supermarket Type1'], dtype=object)"
      ]
     },
     "execution_count": 146,
     "metadata": {},
     "output_type": "execute_result"
    }
   ],
   "source": [
    "df_train[df_train.Outlet_Identifier == 'OUT017']['Outlet_Type'].unique()"
   ]
  },
  {
   "cell_type": "code",
   "execution_count": 147,
   "metadata": {},
   "outputs": [
    {
     "data": {
      "text/plain": [
       "array(['Supermarket Type1'], dtype=object)"
      ]
     },
     "execution_count": 147,
     "metadata": {},
     "output_type": "execute_result"
    }
   ],
   "source": [
    "df_train[df_train.Outlet_Identifier == 'OUT045']['Outlet_Type'].unique()"
   ]
  },
  {
   "cell_type": "code",
   "execution_count": 73,
   "metadata": {},
   "outputs": [
    {
     "data": {
      "text/plain": [
       "array(['Medium', nan, 'High', 'Small'], dtype=object)"
      ]
     },
     "execution_count": 73,
     "metadata": {},
     "output_type": "execute_result"
    }
   ],
   "source": [
    "df_train['Outlet_Size'].unique()"
   ]
  },
  {
   "cell_type": "code",
   "execution_count": 59,
   "metadata": {},
   "outputs": [
    {
     "data": {
      "text/plain": [
       "Tier 3    3350\n",
       "Tier 2    2785\n",
       "Tier 1    2388\n",
       "Name: Outlet_Location_Type, dtype: int64"
      ]
     },
     "execution_count": 59,
     "metadata": {},
     "output_type": "execute_result"
    }
   ],
   "source": [
    "df_train['Outlet_Location_Type'].value_counts()"
   ]
  },
  {
   "cell_type": "code",
   "execution_count": 60,
   "metadata": {},
   "outputs": [
    {
     "data": {
      "text/plain": [
       "Outlet_Type\n",
       "Grocery Store        1083\n",
       "Supermarket Type1    5577\n",
       "Supermarket Type2     928\n",
       "Supermarket Type3     935\n",
       "Name: Outlet_Location_Type, dtype: int64"
      ]
     },
     "execution_count": 60,
     "metadata": {},
     "output_type": "execute_result"
    }
   ],
   "source": [
    "df_train.groupby('Outlet_Type')['Outlet_Location_Type'].count()"
   ]
  },
  {
   "cell_type": "code",
   "execution_count": 61,
   "metadata": {},
   "outputs": [
    {
     "data": {
      "text/plain": [
       "<matplotlib.axes._subplots.AxesSubplot at 0x211c4b3a438>"
      ]
     },
     "execution_count": 61,
     "metadata": {},
     "output_type": "execute_result"
    },
    {
     "data": {
      "image/png": "[encoded data removed]",
      "text/plain": [
       "<Figure size 864x432 with 1 Axes>"
      ]
     },
     "metadata": {
      "needs_background": "light"
     },
     "output_type": "display_data"
    }
   ],
   "source": [
    "plt.figure(figsize = (12,6))\n",
    "sns.countplot(df_train['Outlet_Type'], hue = df_train['Outlet_Location_Type'])"
   ]
  },
  {
   "cell_type": "code",
   "execution_count": 62,
   "metadata": {},
   "outputs": [],
   "source": [
    "# Supermarket Type1 is in all the Tier1,2,3 however Type2 and Type3 are in Tier3 . Grocery store is in Tier1 and Tier 3 both."
   ]
  },
  {
   "cell_type": "code",
   "execution_count": 63,
   "metadata": {},
   "outputs": [],
   "source": [
    "# Looking at the history since Out010,Out045,Out017 are having supermarket type1 and Grocery type likely to be in Tier 1 city."
   ]
  },
  {
   "cell_type": "code",
   "execution_count": 65,
   "metadata": {},
   "outputs": [
    {
     "data": {
      "text/plain": [
       "Outlet_Size  Outlet_Location_Type\n",
       "High         Tier 3                   932\n",
       "Medium       Tier 3                  1863\n",
       "             Tier 1                   930\n",
       "Small        Tier 1                  1458\n",
       "             Tier 2                   930\n",
       "Name: Outlet_Location_Type, dtype: int64"
      ]
     },
     "execution_count": 65,
     "metadata": {},
     "output_type": "execute_result"
    }
   ],
   "source": [
    "df_train.groupby('Outlet_Size')['Outlet_Location_Type'].value_counts()\n"
   ]
  },
  {
   "cell_type": "code",
   "execution_count": 66,
   "metadata": {},
   "outputs": [
    {
     "data": {
      "text/plain": [
       "Outlet_Size  Outlet_Type      \n",
       "High         Supermarket Type1     932\n",
       "Medium       Supermarket Type3     935\n",
       "             Supermarket Type1     930\n",
       "             Supermarket Type2     928\n",
       "Small        Supermarket Type1    1860\n",
       "             Grocery Store         528\n",
       "Name: Outlet_Type, dtype: int64"
      ]
     },
     "execution_count": 66,
     "metadata": {},
     "output_type": "execute_result"
    }
   ],
   "source": [
    "df_train.groupby('Outlet_Size')['Outlet_Type'].value_counts()"
   ]
  },
  {
   "cell_type": "code",
   "execution_count": 67,
   "metadata": {},
   "outputs": [
    {
     "data": {
      "text/plain": [
       "Outlet_Location_Type  Outlet_Type      \n",
       "Tier 1                Supermarket Type1    1860\n",
       "                      Grocery Store         528\n",
       "Tier 2                Supermarket Type1    2785\n",
       "Tier 3                Supermarket Type3     935\n",
       "                      Supermarket Type1     932\n",
       "                      Supermarket Type2     928\n",
       "                      Grocery Store         555\n",
       "Name: Outlet_Type, dtype: int64"
      ]
     },
     "execution_count": 67,
     "metadata": {},
     "output_type": "execute_result"
    }
   ],
   "source": [
    "df_train.groupby('Outlet_Location_Type')['Outlet_Type'].value_counts()"
   ]
  },
  {
   "cell_type": "code",
   "execution_count": 113,
   "metadata": {},
   "outputs": [
    {
     "data": {
      "text/plain": [
       "8523"
      ]
     },
     "execution_count": 113,
     "metadata": {},
     "output_type": "execute_result"
    }
   ],
   "source": [
    "df_train['Outlet_Identifier'].isna().count()"
   ]
  },
  {
   "cell_type": "code",
   "execution_count": 144,
   "metadata": {},
   "outputs": [
    {
     "data": {
      "text/plain": [
       "555"
      ]
     },
     "execution_count": 144,
     "metadata": {},
     "output_type": "execute_result"
    }
   ],
   "source": [
    "df_train[df_train.Outlet_Identifier == 'OUT010']['Outlet_Size'].isna().count()"
   ]
  },
  {
   "cell_type": "code",
   "execution_count": 154,
   "metadata": {},
   "outputs": [
    {
     "data": {
      "text/plain": [
       "Outlet_Identifier  Outlet_Location_Type\n",
       "OUT010             Tier 3                  555\n",
       "OUT013             Tier 3                  932\n",
       "OUT017             Tier 2                  926\n",
       "OUT018             Tier 3                  928\n",
       "OUT019             Tier 1                  528\n",
       "OUT027             Tier 3                  935\n",
       "OUT035             Tier 2                  930\n",
       "OUT045             Tier 2                  929\n",
       "OUT046             Tier 1                  930\n",
       "OUT049             Tier 1                  930\n",
       "Name: Outlet_Location_Type, dtype: int64"
      ]
     },
     "execution_count": 154,
     "metadata": {},
     "output_type": "execute_result"
    }
   ],
   "source": [
    "df_train.groupby('Outlet_Identifier')['Outlet_Location_Type'].value_counts()"
   ]
  },
  {
   "cell_type": "code",
   "execution_count": 157,
   "metadata": {},
   "outputs": [
    {
     "data": {
      "text/plain": [
       "<matplotlib.axes._subplots.AxesSubplot at 0x211c4bb9ef0>"
      ]
     },
     "execution_count": 157,
     "metadata": {},
     "output_type": "execute_result"
    },
    {
     "data": {
      "image/png": "[encoded data removed]",
      "text/plain": [
       "<Figure size 432x288 with 1 Axes>"
      ]
     },
     "metadata": {
      "needs_background": "light"
     },
     "output_type": "display_data"
    }
   ],
   "source": [
    "sns.countplot(df_train['Outlet_Location_Type'], hue = df_train['Outlet_Size'])"
   ]
  },
  {
   "cell_type": "markdown",
   "metadata": {},
   "source": [
    "# Handling the Missing Value for Outlet Identifier"
   ]
  },
  {
   "cell_type": "code",
   "execution_count": 7,
   "metadata": {},
   "outputs": [],
   "source": [
    "df_train.loc[(df_train['Outlet_Identifier'] == 'OUT010') & (df_train['Outlet_Size'].isnull()),'Outlet_Size'] = 'Small'"
   ]
  },
  {
   "cell_type": "code",
   "execution_count": 8,
   "metadata": {},
   "outputs": [],
   "source": [
    "df_train.loc[(df_train['Outlet_Identifier'] == 'OUT017') & (df_train['Outlet_Size'].isnull()),'Outlet_Size'] = 'Small'"
   ]
  },
  {
   "cell_type": "code",
   "execution_count": 9,
   "metadata": {},
   "outputs": [],
   "source": [
    "df_train.loc[(df_train['Outlet_Identifier'] == 'OUT045') & (df_train['Outlet_Size'].isnull()),'Outlet_Size'] = 'Small'"
   ]
  },
  {
   "cell_type": "markdown",
   "metadata": {},
   "source": [
    "fill Out010 with Smallsize for Outletsize since they are having all the grocery store and grocery store are all with small size with our above analysis\n",
    "fill Out017 and Out045  for Outletsize since they are in Tier2  and Tier 2 have all the Outletsize as small size with our  analysis"
   ]
  },
  {
   "cell_type": "code",
   "execution_count": 10,
   "metadata": {},
   "outputs": [
    {
     "data": {
      "text/plain": [
       "Outlet_Identifier\n",
       "OUT010    555\n",
       "OUT013    932\n",
       "OUT017    926\n",
       "OUT018    928\n",
       "OUT019    528\n",
       "OUT027    935\n",
       "OUT035    930\n",
       "OUT045    929\n",
       "OUT046    930\n",
       "OUT049    930\n",
       "Name: Outlet_Size, dtype: int64"
      ]
     },
     "execution_count": 10,
     "metadata": {},
     "output_type": "execute_result"
    }
   ],
   "source": [
    "df_train.groupby('Outlet_Identifier')['Outlet_Size'].count()"
   ]
  },
  {
   "cell_type": "markdown",
   "metadata": {},
   "source": [
    "# Handle the missing value for Item weight based on Item_Identifier\n",
    "\n"
   ]
  },
  {
   "cell_type": "code",
   "execution_count": 11,
   "metadata": {},
   "outputs": [
    {
     "data": {
      "text/plain": [
       "Item_Identifier\n",
       "DRA12    6\n",
       "DRA24    5\n",
       "DRA59    6\n",
       "DRB01    2\n",
       "DRB13    5\n",
       "Name: Item_Weight, dtype: int64"
      ]
     },
     "execution_count": 11,
     "metadata": {},
     "output_type": "execute_result"
    }
   ],
   "source": [
    "df_train.groupby('Item_Identifier')['Item_Weight'].count().head(5)"
   ]
  },
  {
   "cell_type": "code",
   "execution_count": 12,
   "metadata": {},
   "outputs": [],
   "source": [
    "df_train.Item_Weight = df_train.groupby('Item_Identifier')['Item_Weight'].apply(lambda x: x.fillna(x.median()))\n",
    "df_train.Item_Weight = df_train.Item_Weight.fillna(df_train.Item_Weight.mean())\n",
    "\n"
   ]
  },
  {
   "cell_type": "markdown",
   "metadata": {},
   "source": [
    "Taking the median based on the Item Identifier group by median then the remaining can be fill by mean."
   ]
  },
  {
   "cell_type": "code",
   "execution_count": 13,
   "metadata": {},
   "outputs": [
    {
     "data": {
      "text/plain": [
       "False    8523\n",
       "Name: Item_Weight, dtype: int64"
      ]
     },
     "execution_count": 13,
     "metadata": {},
     "output_type": "execute_result"
    }
   ],
   "source": [
    "df_train['Item_Weight'].isna().value_counts()"
   ]
  },
  {
   "cell_type": "code",
   "execution_count": 14,
   "metadata": {},
   "outputs": [
    {
     "data": {
      "text/html": [
       "<div>\n",
       "<style scoped>\n",
       "    .dataframe tbody tr th:only-of-type {\n",
       "        vertical-align: middle;\n",
       "    }\n",
       "\n",
       "    .dataframe tbody tr th {\n",
       "        vertical-align: top;\n",
       "    }\n",
       "\n",
       "    .dataframe thead th {\n",
       "        text-align: right;\n",
       "    }\n",
       "</style>\n",
       "<table border=\"1\" class=\"dataframe\">\n",
       "  <thead>\n",
       "    <tr style=\"text-align: right;\">\n",
       "      <th></th>\n",
       "      <th>Item_Identifier</th>\n",
       "      <th>Item_Weight</th>\n",
       "      <th>Item_Fat_Content</th>\n",
       "      <th>Item_Visibility</th>\n",
       "      <th>Item_Type</th>\n",
       "      <th>Item_MRP</th>\n",
       "      <th>Outlet_Identifier</th>\n",
       "      <th>Outlet_Establishment_Year</th>\n",
       "      <th>Outlet_Size</th>\n",
       "      <th>Outlet_Location_Type</th>\n",
       "      <th>Outlet_Type</th>\n",
       "      <th>Item_Outlet_Sales</th>\n",
       "    </tr>\n",
       "  </thead>\n",
       "  <tbody>\n",
       "  </tbody>\n",
       "</table>\n",
       "</div>"
      ],
      "text/plain": [
       "Empty DataFrame\n",
       "Columns: [Item_Identifier, Item_Weight, Item_Fat_Content, Item_Visibility, Item_Type, Item_MRP, Outlet_Identifier, Outlet_Establishment_Year, Outlet_Size, Outlet_Location_Type, Outlet_Type, Item_Outlet_Sales]\n",
       "Index: []"
      ]
     },
     "execution_count": 14,
     "metadata": {},
     "output_type": "execute_result"
    }
   ],
   "source": [
    "df_train[df_train['Item_Weight'].isna()]"
   ]
  },
  {
   "cell_type": "markdown",
   "metadata": {},
   "source": [
    "All the missing values are handled. Let us do more feature Engineering now."
   ]
  },
  {
   "cell_type": "code",
   "execution_count": 15,
   "metadata": {},
   "outputs": [
    {
     "name": "stdout",
     "output_type": "stream",
     "text": [
      "<class 'pandas.core.frame.DataFrame'>\n",
      "RangeIndex: 8523 entries, 0 to 8522\n",
      "Data columns (total 12 columns):\n",
      "Item_Identifier              8523 non-null object\n",
      "Item_Weight                  8523 non-null float64\n",
      "Item_Fat_Content             8523 non-null object\n",
      "Item_Visibility              8523 non-null float64\n",
      "Item_Type                    8523 non-null object\n",
      "Item_MRP                     8523 non-null float64\n",
      "Outlet_Identifier            8523 non-null object\n",
      "Outlet_Establishment_Year    8523 non-null int64\n",
      "Outlet_Size                  8523 non-null object\n",
      "Outlet_Location_Type         8523 non-null object\n",
      "Outlet_Type                  8523 non-null object\n",
      "Item_Outlet_Sales            8523 non-null float64\n",
      "dtypes: float64(4), int64(1), object(7)\n",
      "memory usage: 799.1+ KB\n"
     ]
    }
   ],
   "source": [
    "df_train.info()"
   ]
  },
  {
   "cell_type": "code",
   "execution_count": 16,
   "metadata": {},
   "outputs": [
    {
     "data": {
      "text/html": [
       "<div>\n",
       "<style scoped>\n",
       "    .dataframe tbody tr th:only-of-type {\n",
       "        vertical-align: middle;\n",
       "    }\n",
       "\n",
       "    .dataframe tbody tr th {\n",
       "        vertical-align: top;\n",
       "    }\n",
       "\n",
       "    .dataframe thead th {\n",
       "        text-align: right;\n",
       "    }\n",
       "</style>\n",
       "<table border=\"1\" class=\"dataframe\">\n",
       "  <thead>\n",
       "    <tr style=\"text-align: right;\">\n",
       "      <th></th>\n",
       "      <th>Item_Identifier</th>\n",
       "      <th>Item_Weight</th>\n",
       "      <th>Item_Fat_Content</th>\n",
       "      <th>Item_Visibility</th>\n",
       "      <th>Item_Type</th>\n",
       "      <th>Item_MRP</th>\n",
       "      <th>Outlet_Identifier</th>\n",
       "      <th>Outlet_Establishment_Year</th>\n",
       "      <th>Outlet_Size</th>\n",
       "      <th>Outlet_Location_Type</th>\n",
       "      <th>Outlet_Type</th>\n",
       "      <th>Item_Outlet_Sales</th>\n",
       "    </tr>\n",
       "  </thead>\n",
       "  <tbody>\n",
       "    <tr>\n",
       "      <th>0</th>\n",
       "      <td>FDA15</td>\n",
       "      <td>9.30</td>\n",
       "      <td>Low Fat</td>\n",
       "      <td>0.016047</td>\n",
       "      <td>Dairy</td>\n",
       "      <td>249.8092</td>\n",
       "      <td>OUT049</td>\n",
       "      <td>1999</td>\n",
       "      <td>Medium</td>\n",
       "      <td>Tier 1</td>\n",
       "      <td>Supermarket Type1</td>\n",
       "      <td>3735.1380</td>\n",
       "    </tr>\n",
       "    <tr>\n",
       "      <th>1</th>\n",
       "      <td>DRC01</td>\n",
       "      <td>5.92</td>\n",
       "      <td>Regular</td>\n",
       "      <td>0.019278</td>\n",
       "      <td>Soft Drinks</td>\n",
       "      <td>48.2692</td>\n",
       "      <td>OUT018</td>\n",
       "      <td>2009</td>\n",
       "      <td>Medium</td>\n",
       "      <td>Tier 3</td>\n",
       "      <td>Supermarket Type2</td>\n",
       "      <td>443.4228</td>\n",
       "    </tr>\n",
       "    <tr>\n",
       "      <th>2</th>\n",
       "      <td>FDN15</td>\n",
       "      <td>17.50</td>\n",
       "      <td>Low Fat</td>\n",
       "      <td>0.016760</td>\n",
       "      <td>Meat</td>\n",
       "      <td>141.6180</td>\n",
       "      <td>OUT049</td>\n",
       "      <td>1999</td>\n",
       "      <td>Medium</td>\n",
       "      <td>Tier 1</td>\n",
       "      <td>Supermarket Type1</td>\n",
       "      <td>2097.2700</td>\n",
       "    </tr>\n",
       "    <tr>\n",
       "      <th>3</th>\n",
       "      <td>FDX07</td>\n",
       "      <td>19.20</td>\n",
       "      <td>Regular</td>\n",
       "      <td>0.000000</td>\n",
       "      <td>Fruits and Vegetables</td>\n",
       "      <td>182.0950</td>\n",
       "      <td>OUT010</td>\n",
       "      <td>1998</td>\n",
       "      <td>Small</td>\n",
       "      <td>Tier 3</td>\n",
       "      <td>Grocery Store</td>\n",
       "      <td>732.3800</td>\n",
       "    </tr>\n",
       "    <tr>\n",
       "      <th>4</th>\n",
       "      <td>NCD19</td>\n",
       "      <td>8.93</td>\n",
       "      <td>Low Fat</td>\n",
       "      <td>0.000000</td>\n",
       "      <td>Household</td>\n",
       "      <td>53.8614</td>\n",
       "      <td>OUT013</td>\n",
       "      <td>1987</td>\n",
       "      <td>High</td>\n",
       "      <td>Tier 3</td>\n",
       "      <td>Supermarket Type1</td>\n",
       "      <td>994.7052</td>\n",
       "    </tr>\n",
       "  </tbody>\n",
       "</table>\n",
       "</div>"
      ],
      "text/plain": [
       "  Item_Identifier  Item_Weight Item_Fat_Content  Item_Visibility  \\\n",
       "0           FDA15         9.30          Low Fat         0.016047   \n",
       "1           DRC01         5.92          Regular         0.019278   \n",
       "2           FDN15        17.50          Low Fat         0.016760   \n",
       "3           FDX07        19.20          Regular         0.000000   \n",
       "4           NCD19         8.93          Low Fat         0.000000   \n",
       "\n",
       "               Item_Type  Item_MRP Outlet_Identifier  \\\n",
       "0                  Dairy  249.8092            OUT049   \n",
       "1            Soft Drinks   48.2692            OUT018   \n",
       "2                   Meat  141.6180            OUT049   \n",
       "3  Fruits and Vegetables  182.0950            OUT010   \n",
       "4              Household   53.8614            OUT013   \n",
       "\n",
       "   Outlet_Establishment_Year Outlet_Size Outlet_Location_Type  \\\n",
       "0                       1999      Medium               Tier 1   \n",
       "1                       2009      Medium               Tier 3   \n",
       "2                       1999      Medium               Tier 1   \n",
       "3                       1998       Small               Tier 3   \n",
       "4                       1987        High               Tier 3   \n",
       "\n",
       "         Outlet_Type  Item_Outlet_Sales  \n",
       "0  Supermarket Type1          3735.1380  \n",
       "1  Supermarket Type2           443.4228  \n",
       "2  Supermarket Type1          2097.2700  \n",
       "3      Grocery Store           732.3800  \n",
       "4  Supermarket Type1           994.7052  "
      ]
     },
     "execution_count": 16,
     "metadata": {},
     "output_type": "execute_result"
    }
   ],
   "source": [
    "df_train.head(5)"
   ]
  },
  {
   "cell_type": "code",
   "execution_count": 17,
   "metadata": {},
   "outputs": [],
   "source": [
    "# Handle the Item Fat Content string handling."
   ]
  },
  {
   "cell_type": "code",
   "execution_count": 17,
   "metadata": {},
   "outputs": [],
   "source": [
    "df_train['Item_Fat_Content'].replace({'low fat':'Low Fat',\n",
    "                                      'LF':'Low Fat',\n",
    "                                      'reg':'Regular'\n",
    "                                     },inplace = True)"
   ]
  },
  {
   "cell_type": "code",
   "execution_count": 18,
   "metadata": {},
   "outputs": [
    {
     "data": {
      "text/plain": [
       "array(['Low Fat', 'Regular'], dtype=object)"
      ]
     },
     "execution_count": 18,
     "metadata": {},
     "output_type": "execute_result"
    }
   ],
   "source": [
    "df_train['Item_Fat_Content'].unique()"
   ]
  },
  {
   "cell_type": "code",
   "execution_count": 19,
   "metadata": {},
   "outputs": [],
   "source": [
    "# Lot of Items with Visibility 0 does not make sense here. Fill them with the mode of visibility of Particular Product."
   ]
  },
  {
   "cell_type": "code",
   "execution_count": 20,
   "metadata": {},
   "outputs": [
    {
     "data": {
      "text/plain": [
       "FDY07    4\n",
       "NCD19    3\n",
       "NCK29    3\n",
       "FDH48    3\n",
       "NCK54    3\n",
       "FDY55    3\n",
       "NCQ05    3\n",
       "FDZ07    2\n",
       "FDY21    2\n",
       "FDV10    2\n",
       "Name: Item_Identifier, dtype: int64"
      ]
     },
     "execution_count": 20,
     "metadata": {},
     "output_type": "execute_result"
    }
   ],
   "source": [
    "df_train[df_train.Item_Visibility == 0.0]['Item_Identifier'].value_counts().head(10)"
   ]
  },
  {
   "cell_type": "code",
   "execution_count": 21,
   "metadata": {},
   "outputs": [
    {
     "name": "stdout",
     "output_type": "stream",
     "text": [
      "Number of 0 values initially: 526\n",
      "Number of 0 values after modification: 0\n"
     ]
    }
   ],
   "source": [
    "\n",
    "visibility_avg = df_train.pivot_table(values='Item_Visibility', index='Item_Identifier')\n",
    "visibility_avg\n",
    "\n",
    "# Impute 0 values with mean visibility of that product:\n",
    "missing_values = (df_train['Item_Visibility'] == 0)\n",
    "print ('Number of 0 values initially: %d'%sum(missing_values))\n",
    "df_train.loc[missing_values,'Item_Visibility'] = df_train.loc[missing_values,'Item_Identifier'].apply(lambda x: visibility_avg.at[x, 'Item_Visibility'])\n",
    "print ('Number of 0 values after modification: %d'%sum(df_train['Item_Visibility'] == 0))\n",
    "\n"
   ]
  },
  {
   "cell_type": "code",
   "execution_count": 22,
   "metadata": {},
   "outputs": [
    {
     "data": {
      "text/html": [
       "<div>\n",
       "<style scoped>\n",
       "    .dataframe tbody tr th:only-of-type {\n",
       "        vertical-align: middle;\n",
       "    }\n",
       "\n",
       "    .dataframe tbody tr th {\n",
       "        vertical-align: top;\n",
       "    }\n",
       "\n",
       "    .dataframe thead th {\n",
       "        text-align: right;\n",
       "    }\n",
       "</style>\n",
       "<table border=\"1\" class=\"dataframe\">\n",
       "  <thead>\n",
       "    <tr style=\"text-align: right;\">\n",
       "      <th></th>\n",
       "      <th>count</th>\n",
       "      <th>unique</th>\n",
       "      <th>top</th>\n",
       "      <th>freq</th>\n",
       "      <th>mean</th>\n",
       "      <th>std</th>\n",
       "      <th>min</th>\n",
       "      <th>25%</th>\n",
       "      <th>50%</th>\n",
       "      <th>75%</th>\n",
       "      <th>max</th>\n",
       "    </tr>\n",
       "  </thead>\n",
       "  <tbody>\n",
       "    <tr>\n",
       "      <th>Item_Identifier</th>\n",
       "      <td>8523</td>\n",
       "      <td>1559</td>\n",
       "      <td>FDW13</td>\n",
       "      <td>10</td>\n",
       "      <td>NaN</td>\n",
       "      <td>NaN</td>\n",
       "      <td>NaN</td>\n",
       "      <td>NaN</td>\n",
       "      <td>NaN</td>\n",
       "      <td>NaN</td>\n",
       "      <td>NaN</td>\n",
       "    </tr>\n",
       "    <tr>\n",
       "      <th>Item_Weight</th>\n",
       "      <td>8523</td>\n",
       "      <td>NaN</td>\n",
       "      <td>NaN</td>\n",
       "      <td>NaN</td>\n",
       "      <td>12.8754</td>\n",
       "      <td>4.64501</td>\n",
       "      <td>4.555</td>\n",
       "      <td>8.785</td>\n",
       "      <td>12.65</td>\n",
       "      <td>16.85</td>\n",
       "      <td>21.35</td>\n",
       "    </tr>\n",
       "    <tr>\n",
       "      <th>Item_Fat_Content</th>\n",
       "      <td>8523</td>\n",
       "      <td>2</td>\n",
       "      <td>Low Fat</td>\n",
       "      <td>5517</td>\n",
       "      <td>NaN</td>\n",
       "      <td>NaN</td>\n",
       "      <td>NaN</td>\n",
       "      <td>NaN</td>\n",
       "      <td>NaN</td>\n",
       "      <td>NaN</td>\n",
       "      <td>NaN</td>\n",
       "    </tr>\n",
       "    <tr>\n",
       "      <th>Item_Visibility</th>\n",
       "      <td>8523</td>\n",
       "      <td>NaN</td>\n",
       "      <td>NaN</td>\n",
       "      <td>NaN</td>\n",
       "      <td>0.0696699</td>\n",
       "      <td>0.04981</td>\n",
       "      <td>0.0035747</td>\n",
       "      <td>0.0311144</td>\n",
       "      <td>0.0569219</td>\n",
       "      <td>0.0971604</td>\n",
       "      <td>0.328391</td>\n",
       "    </tr>\n",
       "    <tr>\n",
       "      <th>Item_Type</th>\n",
       "      <td>8523</td>\n",
       "      <td>16</td>\n",
       "      <td>Fruits and Vegetables</td>\n",
       "      <td>1232</td>\n",
       "      <td>NaN</td>\n",
       "      <td>NaN</td>\n",
       "      <td>NaN</td>\n",
       "      <td>NaN</td>\n",
       "      <td>NaN</td>\n",
       "      <td>NaN</td>\n",
       "      <td>NaN</td>\n",
       "    </tr>\n",
       "    <tr>\n",
       "      <th>Item_MRP</th>\n",
       "      <td>8523</td>\n",
       "      <td>NaN</td>\n",
       "      <td>NaN</td>\n",
       "      <td>NaN</td>\n",
       "      <td>140.993</td>\n",
       "      <td>62.2751</td>\n",
       "      <td>31.29</td>\n",
       "      <td>93.8265</td>\n",
       "      <td>143.013</td>\n",
       "      <td>185.644</td>\n",
       "      <td>266.888</td>\n",
       "    </tr>\n",
       "    <tr>\n",
       "      <th>Outlet_Identifier</th>\n",
       "      <td>8523</td>\n",
       "      <td>10</td>\n",
       "      <td>OUT027</td>\n",
       "      <td>935</td>\n",
       "      <td>NaN</td>\n",
       "      <td>NaN</td>\n",
       "      <td>NaN</td>\n",
       "      <td>NaN</td>\n",
       "      <td>NaN</td>\n",
       "      <td>NaN</td>\n",
       "      <td>NaN</td>\n",
       "    </tr>\n",
       "    <tr>\n",
       "      <th>Outlet_Establishment_Year</th>\n",
       "      <td>8523</td>\n",
       "      <td>NaN</td>\n",
       "      <td>NaN</td>\n",
       "      <td>NaN</td>\n",
       "      <td>1997.83</td>\n",
       "      <td>8.37176</td>\n",
       "      <td>1985</td>\n",
       "      <td>1987</td>\n",
       "      <td>1999</td>\n",
       "      <td>2004</td>\n",
       "      <td>2009</td>\n",
       "    </tr>\n",
       "    <tr>\n",
       "      <th>Outlet_Size</th>\n",
       "      <td>8523</td>\n",
       "      <td>3</td>\n",
       "      <td>Small</td>\n",
       "      <td>4798</td>\n",
       "      <td>NaN</td>\n",
       "      <td>NaN</td>\n",
       "      <td>NaN</td>\n",
       "      <td>NaN</td>\n",
       "      <td>NaN</td>\n",
       "      <td>NaN</td>\n",
       "      <td>NaN</td>\n",
       "    </tr>\n",
       "    <tr>\n",
       "      <th>Outlet_Location_Type</th>\n",
       "      <td>8523</td>\n",
       "      <td>3</td>\n",
       "      <td>Tier 3</td>\n",
       "      <td>3350</td>\n",
       "      <td>NaN</td>\n",
       "      <td>NaN</td>\n",
       "      <td>NaN</td>\n",
       "      <td>NaN</td>\n",
       "      <td>NaN</td>\n",
       "      <td>NaN</td>\n",
       "      <td>NaN</td>\n",
       "    </tr>\n",
       "    <tr>\n",
       "      <th>Outlet_Type</th>\n",
       "      <td>8523</td>\n",
       "      <td>4</td>\n",
       "      <td>Supermarket Type1</td>\n",
       "      <td>5577</td>\n",
       "      <td>NaN</td>\n",
       "      <td>NaN</td>\n",
       "      <td>NaN</td>\n",
       "      <td>NaN</td>\n",
       "      <td>NaN</td>\n",
       "      <td>NaN</td>\n",
       "      <td>NaN</td>\n",
       "    </tr>\n",
       "    <tr>\n",
       "      <th>Item_Outlet_Sales</th>\n",
       "      <td>8523</td>\n",
       "      <td>NaN</td>\n",
       "      <td>NaN</td>\n",
       "      <td>NaN</td>\n",
       "      <td>2181.29</td>\n",
       "      <td>1706.5</td>\n",
       "      <td>33.29</td>\n",
       "      <td>834.247</td>\n",
       "      <td>1794.33</td>\n",
       "      <td>3101.3</td>\n",
       "      <td>13087</td>\n",
       "    </tr>\n",
       "  </tbody>\n",
       "</table>\n",
       "</div>"
      ],
      "text/plain": [
       "                          count unique                    top  freq  \\\n",
       "Item_Identifier            8523   1559                  FDW13    10   \n",
       "Item_Weight                8523    NaN                    NaN   NaN   \n",
       "Item_Fat_Content           8523      2                Low Fat  5517   \n",
       "Item_Visibility            8523    NaN                    NaN   NaN   \n",
       "Item_Type                  8523     16  Fruits and Vegetables  1232   \n",
       "Item_MRP                   8523    NaN                    NaN   NaN   \n",
       "Outlet_Identifier          8523     10                 OUT027   935   \n",
       "Outlet_Establishment_Year  8523    NaN                    NaN   NaN   \n",
       "Outlet_Size                8523      3                  Small  4798   \n",
       "Outlet_Location_Type       8523      3                 Tier 3  3350   \n",
       "Outlet_Type                8523      4      Supermarket Type1  5577   \n",
       "Item_Outlet_Sales          8523    NaN                    NaN   NaN   \n",
       "\n",
       "                                mean      std        min        25%  \\\n",
       "Item_Identifier                  NaN      NaN        NaN        NaN   \n",
       "Item_Weight                  12.8754  4.64501      4.555      8.785   \n",
       "Item_Fat_Content                 NaN      NaN        NaN        NaN   \n",
       "Item_Visibility            0.0696699  0.04981  0.0035747  0.0311144   \n",
       "Item_Type                        NaN      NaN        NaN        NaN   \n",
       "Item_MRP                     140.993  62.2751      31.29    93.8265   \n",
       "Outlet_Identifier                NaN      NaN        NaN        NaN   \n",
       "Outlet_Establishment_Year    1997.83  8.37176       1985       1987   \n",
       "Outlet_Size                      NaN      NaN        NaN        NaN   \n",
       "Outlet_Location_Type             NaN      NaN        NaN        NaN   \n",
       "Outlet_Type                      NaN      NaN        NaN        NaN   \n",
       "Item_Outlet_Sales            2181.29   1706.5      33.29    834.247   \n",
       "\n",
       "                                 50%        75%       max  \n",
       "Item_Identifier                  NaN        NaN       NaN  \n",
       "Item_Weight                    12.65      16.85     21.35  \n",
       "Item_Fat_Content                 NaN        NaN       NaN  \n",
       "Item_Visibility            0.0569219  0.0971604  0.328391  \n",
       "Item_Type                        NaN        NaN       NaN  \n",
       "Item_MRP                     143.013    185.644   266.888  \n",
       "Outlet_Identifier                NaN        NaN       NaN  \n",
       "Outlet_Establishment_Year       1999       2004      2009  \n",
       "Outlet_Size                      NaN        NaN       NaN  \n",
       "Outlet_Location_Type             NaN        NaN       NaN  \n",
       "Outlet_Type                      NaN        NaN       NaN  \n",
       "Item_Outlet_Sales            1794.33     3101.3     13087  "
      ]
     },
     "execution_count": 22,
     "metadata": {},
     "output_type": "execute_result"
    }
   ],
   "source": [
    "df_train.describe(include = 'all').transpose()"
   ]
  },
  {
   "cell_type": "code",
   "execution_count": 23,
   "metadata": {},
   "outputs": [
    {
     "data": {
      "image/png": "[encoded data removed]",
      "text/plain": [
       "<Figure size 1296x720 with 3 Axes>"
      ]
     },
     "metadata": {
      "needs_background": "light"
     },
     "output_type": "display_data"
    }
   ],
   "source": [
    "# Analyze the relation between the Outlet type and Outlet Identifier w.r.t Item sales.\n",
    "\n",
    "plt.figure(figsize = (18,10))\n",
    "\n",
    "plt.subplot(311)\n",
    "sns.boxplot('Outlet_Type','Item_Outlet_Sales',data = df_train)\n",
    "\n",
    "\n",
    "\n",
    "plt.subplot(312)\n",
    "sns.boxplot('Outlet_Identifier','Item_Outlet_Sales',data = df_train)\n",
    "\n",
    "\n",
    "\n",
    "plt.subplot(313)\n",
    "sns.boxplot('Item_Type','Item_Outlet_Sales',data = df_train)\n",
    "plt.show()"
   ]
  },
  {
   "cell_type": "code",
   "execution_count": 20,
   "metadata": {},
   "outputs": [],
   "source": [
    "# Out010 and 19 have lesser sales w.r.t Out27 which is at higher end\n",
    "# Grocery stores tend to have lesser sales w.r.t Type3 Markets"
   ]
  },
  {
   "cell_type": "code",
   "execution_count": 21,
   "metadata": {},
   "outputs": [],
   "source": [
    "# Looking at the Outlet Establishment year w.r.t Net sales"
   ]
  },
  {
   "cell_type": "code",
   "execution_count": 22,
   "metadata": {},
   "outputs": [
    {
     "name": "stderr",
     "output_type": "stream",
     "text": [
      "C:\\Users\\Pmohan\\AppData\\Local\\Continuum\\anaconda2\\envs\\py36\\lib\\site-packages\\scipy\\stats\\stats.py:1713: FutureWarning: Using a non-tuple sequence for multidimensional indexing is deprecated; use `arr[tuple(seq)]` instead of `arr[seq]`. In the future this will be interpreted as an array index, `arr[np.array(seq)]`, which will result either in an error or a different result.\n",
      "  return np.add.reduce(sorted[indexer] * weights, axis=axis) / sumval\n"
     ]
    },
    {
     "data": {
      "text/plain": [
       "<matplotlib.axes._subplots.AxesSubplot at 0x18709978470>"
      ]
     },
     "execution_count": 22,
     "metadata": {},
     "output_type": "execute_result"
    },
    {
     "data": {
      "image/png": "[encoded data removed]",
      "text/plain": [
       "<Figure size 432x288 with 1 Axes>"
      ]
     },
     "metadata": {
      "needs_background": "light"
     },
     "output_type": "display_data"
    }
   ],
   "source": [
    "sns.barplot(df_train['Outlet_Establishment_Year'],df_train['Item_Outlet_Sales'])\n",
    "# Analyse why 1998 have the min sales"
   ]
  },
  {
   "cell_type": "code",
   "execution_count": 24,
   "metadata": {},
   "outputs": [
    {
     "name": "stdout",
     "output_type": "stream",
     "text": [
      "['Supermarket Type3' 'Grocery Store']\n",
      "['Grocery Store']\n"
     ]
    }
   ],
   "source": [
    "print(df_train[df_train.Outlet_Establishment_Year == 1985]['Outlet_Type'].unique())\n",
    "print(df_train[df_train.Outlet_Establishment_Year == 1998]['Outlet_Type'].unique())\n",
    "\n",
    "# We can assume since there was only one Grocery Type Outelt in Year 1998 which resulted in lesser sales and we already know from above analysis Grocery stores have lesser sales.\n"
   ]
  },
  {
   "cell_type": "code",
   "execution_count": 25,
   "metadata": {},
   "outputs": [],
   "source": [
    "# Convert the year to number of years in operation\n",
    "\n",
    "df_train['Outlet_Years'] = 2009 - df_train['Outlet_Establishment_Year']\n"
   ]
  },
  {
   "cell_type": "code",
   "execution_count": 25,
   "metadata": {},
   "outputs": [],
   "source": [
    "# Data set have lot of Item Types which have some significance associated in the Item Identifier Number for ex: Item Identifier number starting as NC it consititue the item type as Houselhold. We will conmbine them as having it separate will have large sparse matrix during Model Building.\n",
    "\n",
    "# df_train[df_train.Item_Type_Combined == 'Non-Consumable']['Item_Type'].unique()"
   ]
  },
  {
   "cell_type": "code",
   "execution_count": 26,
   "metadata": {},
   "outputs": [
    {
     "name": "stdout",
     "output_type": "stream",
     "text": [
      "['Dairy' 'Soft Drinks' 'Meat' 'Fruits and Vegetables' 'Household'\n",
      " 'Baking Goods' 'Snack Foods' 'Frozen Foods' 'Breakfast'\n",
      " 'Health and Hygiene' 'Hard Drinks' 'Canned' 'Breads' 'Starchy Foods'\n",
      " 'Others' 'Seafood']\n",
      "\n",
      "\n",
      "['FD' 'DR' 'NC']\n",
      "\n",
      "\n",
      "\n",
      "\n",
      "FD    6125\n",
      "NC    1599\n",
      "DR     799\n",
      "Name: Item_Type_Combined, dtype: int64\n"
     ]
    },
    {
     "data": {
      "text/plain": [
       "Food              6125\n",
       "Non-Consumable    1599\n",
       "Drinks             799\n",
       "Name: Item_Type_Combined, dtype: int64"
      ]
     },
     "execution_count": 26,
     "metadata": {},
     "output_type": "execute_result"
    }
   ],
   "source": [
    "print (df_train['Item_Type'].unique())\n",
    "print('\\n')\n",
    "print (df_train['Item_Identifier'].apply(lambda x: x[0:2]).unique())\n",
    "print('\\n')\n",
    "df_train['Item_Type_Combined'] = df_train['Item_Identifier'].apply(lambda x: x[0:2])\n",
    "print('\\n')\n",
    "print(df_train['Item_Type_Combined'].value_counts())\n",
    "\n",
    "# Rename\n",
    "\n",
    "df_train['Item_Type_Combined'] = df_train['Item_Type_Combined'].map({'FD':'Food',\n",
    "                                                             'NC':'Non-Consumable',\n",
    "                                                              'DR':'Drinks'})\n",
    "df_train['Item_Type_Combined'].value_counts()"
   ]
  },
  {
   "cell_type": "code",
   "execution_count": 28,
   "metadata": {},
   "outputs": [
    {
     "data": {
      "text/plain": [
       "Low Fat       3918\n",
       "Regular       3006\n",
       "Non-Edible    1599\n",
       "Name: Item_Fat_Content, dtype: int64"
      ]
     },
     "execution_count": 28,
     "metadata": {},
     "output_type": "execute_result"
    }
   ],
   "source": [
    "# Since we have now Non- Consumables and on other side we also have Item Fat content as only 2 values i.e Regular and Low Fat content. Non Consumables need to be converted into separate category\n",
    "\n",
    "# df_train[df_train.Item_Type == 'Household']['Item_Fat_Content'].unique()\n",
    "df_train.loc[df_train['Item_Type_Combined']==\"Non-Consumable\",'Item_Fat_Content'] = \"Non-Edible\"\n",
    "df_train['Item_Fat_Content'].value_counts()"
   ]
  },
  {
   "cell_type": "code",
   "execution_count": 27,
   "metadata": {},
   "outputs": [
    {
     "name": "stdout",
     "output_type": "stream",
     "text": [
      "<class 'pandas.core.frame.DataFrame'>\n",
      "RangeIndex: 8523 entries, 0 to 8522\n",
      "Data columns (total 14 columns):\n",
      "Item_Identifier              8523 non-null object\n",
      "Item_Weight                  8523 non-null float64\n",
      "Item_Fat_Content             8523 non-null object\n",
      "Item_Visibility              8523 non-null float64\n",
      "Item_Type                    8523 non-null object\n",
      "Item_MRP                     8523 non-null float64\n",
      "Outlet_Identifier            8523 non-null object\n",
      "Outlet_Establishment_Year    8523 non-null int64\n",
      "Outlet_Size                  8523 non-null object\n",
      "Outlet_Location_Type         8523 non-null object\n",
      "Outlet_Type                  8523 non-null object\n",
      "Item_Outlet_Sales            8523 non-null float64\n",
      "Outlet_Years                 8523 non-null int64\n",
      "Item_Type_Combined           8523 non-null object\n",
      "dtypes: float64(4), int64(2), object(8)\n",
      "memory usage: 932.3+ KB\n"
     ]
    }
   ],
   "source": [
    "df_train.info()"
   ]
  },
  {
   "cell_type": "code",
   "execution_count": 29,
   "metadata": {},
   "outputs": [],
   "source": [
    "# one hot encoding for Object Variables\n",
    "df_train = pd.get_dummies(columns=['Item_Type_Combined','Outlet_Type','Outlet_Location_Type','Outlet_Size','Outlet_Identifier','Item_Fat_Content'], data = df_train)\n"
   ]
  },
  {
   "cell_type": "code",
   "execution_count": 30,
   "metadata": {},
   "outputs": [],
   "source": [
    "# Drop the item establishment year and item type as not needed\n",
    "\n",
    "df_train.drop(columns=['Item_Type','Outlet_Establishment_Year'], inplace= True)\n"
   ]
  },
  {
   "cell_type": "code",
   "execution_count": 31,
   "metadata": {},
   "outputs": [
    {
     "name": "stdout",
     "output_type": "stream",
     "text": [
      "<class 'pandas.core.frame.DataFrame'>\n",
      "RangeIndex: 8523 entries, 0 to 8522\n",
      "Data columns (total 32 columns):\n",
      "Item_Identifier                      8523 non-null object\n",
      "Item_Weight                          8523 non-null float64\n",
      "Item_Visibility                      8523 non-null float64\n",
      "Item_MRP                             8523 non-null float64\n",
      "Item_Outlet_Sales                    8523 non-null float64\n",
      "Outlet_Years                         8523 non-null int64\n",
      "Item_Type_Combined_Drinks            8523 non-null uint8\n",
      "Item_Type_Combined_Food              8523 non-null uint8\n",
      "Item_Type_Combined_Non-Consumable    8523 non-null uint8\n",
      "Outlet_Type_Grocery Store            8523 non-null uint8\n",
      "Outlet_Type_Supermarket Type1        8523 non-null uint8\n",
      "Outlet_Type_Supermarket Type2        8523 non-null uint8\n",
      "Outlet_Type_Supermarket Type3        8523 non-null uint8\n",
      "Outlet_Location_Type_Tier 1          8523 non-null uint8\n",
      "Outlet_Location_Type_Tier 2          8523 non-null uint8\n",
      "Outlet_Location_Type_Tier 3          8523 non-null uint8\n",
      "Outlet_Size_High                     8523 non-null uint8\n",
      "Outlet_Size_Medium                   8523 non-null uint8\n",
      "Outlet_Size_Small                    8523 non-null uint8\n",
      "Outlet_Identifier_OUT010             8523 non-null uint8\n",
      "Outlet_Identifier_OUT013             8523 non-null uint8\n",
      "Outlet_Identifier_OUT017             8523 non-null uint8\n",
      "Outlet_Identifier_OUT018             8523 non-null uint8\n",
      "Outlet_Identifier_OUT019             8523 non-null uint8\n",
      "Outlet_Identifier_OUT027             8523 non-null uint8\n",
      "Outlet_Identifier_OUT035             8523 non-null uint8\n",
      "Outlet_Identifier_OUT045             8523 non-null uint8\n",
      "Outlet_Identifier_OUT046             8523 non-null uint8\n",
      "Outlet_Identifier_OUT049             8523 non-null uint8\n",
      "Item_Fat_Content_Low Fat             8523 non-null uint8\n",
      "Item_Fat_Content_Non-Edible          8523 non-null uint8\n",
      "Item_Fat_Content_Regular             8523 non-null uint8\n",
      "dtypes: float64(4), int64(1), object(1), uint8(26)\n",
      "memory usage: 616.0+ KB\n"
     ]
    }
   ],
   "source": [
    "df_train.info()"
   ]
  },
  {
   "cell_type": "code",
   "execution_count": 118,
   "metadata": {},
   "outputs": [],
   "source": [
    "X = df_train.drop(columns=['Item_Outlet_Sales','Item_Identifier'])\n",
    "y = df_train['Item_Outlet_Sales']\n"
   ]
  },
  {
   "cell_type": "code",
   "execution_count": 432,
   "metadata": {},
   "outputs": [],
   "source": [
    "# for feature in df_train.columns: # Loop through all columns in the dataframe\n",
    "#     if df_train[feature].dtype == 'object': # Only apply for columns with categorical strings\n",
    "#         df_train[feature] = pd.Categorical(df_train[feature]).codes"
   ]
  },
  {
   "cell_type": "code",
   "execution_count": null,
   "metadata": {},
   "outputs": [],
   "source": []
  },
  {
   "cell_type": "code",
   "execution_count": 27,
   "metadata": {},
   "outputs": [
    {
     "data": {
      "text/plain": [
       "Item_Weight                          0.013165\n",
       "Item_Visibility                     -0.128449\n",
       "Item_MRP                             0.567574\n",
       "Outlet_Years                         0.049135\n",
       "Item_Type_Combined_Drinks           -0.034672\n",
       "Item_Type_Combined_Food              0.031905\n",
       "Item_Type_Combined_Non-Consumable   -0.010861\n",
       "Outlet_Type_Grocery Store           -0.411727\n",
       "Outlet_Type_Supermarket Type1        0.108765\n",
       "Outlet_Type_Supermarket Type2       -0.038059\n",
       "Outlet_Type_Supermarket Type3        0.311192\n",
       "Outlet_Location_Type_Tier 1         -0.111287\n",
       "Outlet_Location_Type_Tier 2          0.058261\n",
       "Outlet_Location_Type_Tier 3          0.046376\n",
       "Outlet_Size_High                     0.024170\n",
       "Outlet_Size_Medium                   0.204701\n",
       "Outlet_Size_Small                   -0.208912\n",
       "Outlet_Identifier_OUT010            -0.284883\n",
       "Outlet_Identifier_OUT013             0.024170\n",
       "Outlet_Identifier_OUT017             0.032610\n",
       "Outlet_Identifier_OUT018            -0.038059\n",
       "Outlet_Identifier_OUT019            -0.277250\n",
       "Outlet_Identifier_OUT027             0.311192\n",
       "Outlet_Identifier_OUT035             0.052823\n",
       "Outlet_Identifier_OUT045             0.002274\n",
       "Outlet_Identifier_OUT046             0.019803\n",
       "Outlet_Identifier_OUT049             0.034264\n",
       "Item_Fat_Content_Low Fat            -0.009438\n",
       "Item_Fat_Content_Non-Edible         -0.010861\n",
       "Item_Fat_Content_Regular             0.018719\n",
       "dtype: float64"
      ]
     },
     "execution_count": 27,
     "metadata": {},
     "output_type": "execute_result"
    }
   ],
   "source": [
    "X.corrwith(y)"
   ]
  },
  {
   "cell_type": "code",
   "execution_count": null,
   "metadata": {},
   "outputs": [],
   "source": [
    "# From the above correlation we can make inference that below are good predictors for Sales\n",
    "\n",
    "# 1- Item MRP, 2- Outlet_Type_Supermarket Type3, 3-Outlet_Identifier_OUT027.\n"
   ]
  },
  {
   "cell_type": "code",
   "execution_count": 328,
   "metadata": {},
   "outputs": [
    {
     "data": {
      "image/png": "[encoded data removed]",
      "text/plain": [
       "<Figure size 1440x720 with 2 Axes>"
      ]
     },
     "metadata": {
      "needs_background": "light"
     },
     "output_type": "display_data"
    }
   ],
   "source": [
    "plt.figure(figsize = (20,10))\n",
    "sns.heatmap(df_train.corr(),annot= True)\n",
    "plt.tight_layout()\n",
    "plt.show()"
   ]
  },
  {
   "cell_type": "code",
   "execution_count": 138,
   "metadata": {},
   "outputs": [
    {
     "data": {
      "text/plain": [
       "<matplotlib.axes._subplots.AxesSubplot at 0x215a38fef98>"
      ]
     },
     "execution_count": 138,
     "metadata": {},
     "output_type": "execute_result"
    },
    {
     "data": {
      "image/png": "[encoded data removed]",
      "text/plain": [
       "<Figure size 432x288 with 1 Axes>"
      ]
     },
     "metadata": {
      "needs_background": "light"
     },
     "output_type": "display_data"
    }
   ],
   "source": [
    "sns.scatterplot(df_train['Outlet_Type'],df_train['Item_Outlet_Sales'])"
   ]
  },
  {
   "cell_type": "code",
   "execution_count": 32,
   "metadata": {},
   "outputs": [],
   "source": [
    "from sklearn.ensemble import RandomForestRegressor\n",
    "from sklearn.model_selection import train_test_split\n",
    "from sklearn.model_selection import RandomizedSearchCV,GridSearchCV"
   ]
  },
  {
   "cell_type": "code",
   "execution_count": 42,
   "metadata": {},
   "outputs": [],
   "source": [
    "X_train, X_val, y_train, y_val = train_test_split(X, y, test_size=0.20, random_state=1)\n",
    "X_train, X_test,y_train,y_test = train_test_split(X,y,test_size=0.20,random_state=1)"
   ]
  },
  {
   "cell_type": "code",
   "execution_count": 369,
   "metadata": {},
   "outputs": [
    {
     "name": "stdout",
     "output_type": "stream",
     "text": [
      "<class 'pandas.core.frame.DataFrame'>\n",
      "RangeIndex: 8523 entries, 0 to 8522\n",
      "Data columns (total 30 columns):\n",
      "Item_Weight                          8523 non-null float64\n",
      "Item_Visibility                      8523 non-null float64\n",
      "Item_MRP                             8523 non-null float64\n",
      "Outlet_Years                         8523 non-null int64\n",
      "Item_Type_Combined_Drinks            8523 non-null uint8\n",
      "Item_Type_Combined_Food              8523 non-null uint8\n",
      "Item_Type_Combined_Non-Consumable    8523 non-null uint8\n",
      "Outlet_Type_Grocery Store            8523 non-null uint8\n",
      "Outlet_Type_Supermarket Type1        8523 non-null uint8\n",
      "Outlet_Type_Supermarket Type2        8523 non-null uint8\n",
      "Outlet_Type_Supermarket Type3        8523 non-null uint8\n",
      "Outlet_Location_Type_Tier 1          8523 non-null uint8\n",
      "Outlet_Location_Type_Tier 2          8523 non-null uint8\n",
      "Outlet_Location_Type_Tier 3          8523 non-null uint8\n",
      "Outlet_Size_High                     8523 non-null uint8\n",
      "Outlet_Size_Medium                   8523 non-null uint8\n",
      "Outlet_Size_Small                    8523 non-null uint8\n",
      "Outlet_Identifier_OUT010             8523 non-null uint8\n",
      "Outlet_Identifier_OUT013             8523 non-null uint8\n",
      "Outlet_Identifier_OUT017             8523 non-null uint8\n",
      "Outlet_Identifier_OUT018             8523 non-null uint8\n",
      "Outlet_Identifier_OUT019             8523 non-null uint8\n",
      "Outlet_Identifier_OUT027             8523 non-null uint8\n",
      "Outlet_Identifier_OUT035             8523 non-null uint8\n",
      "Outlet_Identifier_OUT045             8523 non-null uint8\n",
      "Outlet_Identifier_OUT046             8523 non-null uint8\n",
      "Outlet_Identifier_OUT049             8523 non-null uint8\n",
      "Item_Fat_Content_Low Fat             8523 non-null uint8\n",
      "Item_Fat_Content_Non-Edible          8523 non-null uint8\n",
      "Item_Fat_Content_Regular             8523 non-null uint8\n",
      "dtypes: float64(3), int64(1), uint8(26)\n",
      "memory usage: 482.8 KB\n"
     ]
    }
   ],
   "source": [
    "X.info()"
   ]
  },
  {
   "cell_type": "code",
   "execution_count": 109,
   "metadata": {},
   "outputs": [],
   "source": [
    "# for feature in X.columns: # Loop through all columns in the dataframe\n",
    "#     if X[feature].dtype == 'object': # Only apply for columns with categorical strings\n",
    "#         X[feature] = pd.Categorical(X[feature]).codes"
   ]
  },
  {
   "cell_type": "code",
   "execution_count": 333,
   "metadata": {},
   "outputs": [
    {
     "data": {
      "text/html": [
       "<div>\n",
       "<style scoped>\n",
       "    .dataframe tbody tr th:only-of-type {\n",
       "        vertical-align: middle;\n",
       "    }\n",
       "\n",
       "    .dataframe tbody tr th {\n",
       "        vertical-align: top;\n",
       "    }\n",
       "\n",
       "    .dataframe thead th {\n",
       "        text-align: right;\n",
       "    }\n",
       "</style>\n",
       "<table border=\"1\" class=\"dataframe\">\n",
       "  <thead>\n",
       "    <tr style=\"text-align: right;\">\n",
       "      <th></th>\n",
       "      <th>Item_Weight</th>\n",
       "      <th>Item_Visibility</th>\n",
       "      <th>Item_MRP</th>\n",
       "      <th>Outlet_Years</th>\n",
       "      <th>Item_Type_Combined_Drinks</th>\n",
       "      <th>Item_Type_Combined_Food</th>\n",
       "      <th>Item_Type_Combined_Non-Consumable</th>\n",
       "      <th>Outlet_Type_Grocery Store</th>\n",
       "      <th>Outlet_Type_Supermarket Type1</th>\n",
       "      <th>Outlet_Type_Supermarket Type2</th>\n",
       "      <th>...</th>\n",
       "      <th>Outlet_Identifier_OUT018</th>\n",
       "      <th>Outlet_Identifier_OUT019</th>\n",
       "      <th>Outlet_Identifier_OUT027</th>\n",
       "      <th>Outlet_Identifier_OUT035</th>\n",
       "      <th>Outlet_Identifier_OUT045</th>\n",
       "      <th>Outlet_Identifier_OUT046</th>\n",
       "      <th>Outlet_Identifier_OUT049</th>\n",
       "      <th>Item_Fat_Content_Low Fat</th>\n",
       "      <th>Item_Fat_Content_Non-Edible</th>\n",
       "      <th>Item_Fat_Content_Regular</th>\n",
       "    </tr>\n",
       "  </thead>\n",
       "  <tbody>\n",
       "    <tr>\n",
       "      <th>0</th>\n",
       "      <td>9.30</td>\n",
       "      <td>0.016047</td>\n",
       "      <td>249.8092</td>\n",
       "      <td>10</td>\n",
       "      <td>0</td>\n",
       "      <td>1</td>\n",
       "      <td>0</td>\n",
       "      <td>0</td>\n",
       "      <td>1</td>\n",
       "      <td>0</td>\n",
       "      <td>...</td>\n",
       "      <td>0</td>\n",
       "      <td>0</td>\n",
       "      <td>0</td>\n",
       "      <td>0</td>\n",
       "      <td>0</td>\n",
       "      <td>0</td>\n",
       "      <td>1</td>\n",
       "      <td>1</td>\n",
       "      <td>0</td>\n",
       "      <td>0</td>\n",
       "    </tr>\n",
       "    <tr>\n",
       "      <th>1</th>\n",
       "      <td>5.92</td>\n",
       "      <td>0.019278</td>\n",
       "      <td>48.2692</td>\n",
       "      <td>0</td>\n",
       "      <td>1</td>\n",
       "      <td>0</td>\n",
       "      <td>0</td>\n",
       "      <td>0</td>\n",
       "      <td>0</td>\n",
       "      <td>1</td>\n",
       "      <td>...</td>\n",
       "      <td>1</td>\n",
       "      <td>0</td>\n",
       "      <td>0</td>\n",
       "      <td>0</td>\n",
       "      <td>0</td>\n",
       "      <td>0</td>\n",
       "      <td>0</td>\n",
       "      <td>0</td>\n",
       "      <td>0</td>\n",
       "      <td>1</td>\n",
       "    </tr>\n",
       "    <tr>\n",
       "      <th>2</th>\n",
       "      <td>17.50</td>\n",
       "      <td>0.016760</td>\n",
       "      <td>141.6180</td>\n",
       "      <td>10</td>\n",
       "      <td>0</td>\n",
       "      <td>1</td>\n",
       "      <td>0</td>\n",
       "      <td>0</td>\n",
       "      <td>1</td>\n",
       "      <td>0</td>\n",
       "      <td>...</td>\n",
       "      <td>0</td>\n",
       "      <td>0</td>\n",
       "      <td>0</td>\n",
       "      <td>0</td>\n",
       "      <td>0</td>\n",
       "      <td>0</td>\n",
       "      <td>1</td>\n",
       "      <td>1</td>\n",
       "      <td>0</td>\n",
       "      <td>0</td>\n",
       "    </tr>\n",
       "  </tbody>\n",
       "</table>\n",
       "<p>3 rows × 30 columns</p>\n",
       "</div>"
      ],
      "text/plain": [
       "   Item_Weight  Item_Visibility  Item_MRP  Outlet_Years  \\\n",
       "0         9.30         0.016047  249.8092            10   \n",
       "1         5.92         0.019278   48.2692             0   \n",
       "2        17.50         0.016760  141.6180            10   \n",
       "\n",
       "   Item_Type_Combined_Drinks  Item_Type_Combined_Food  \\\n",
       "0                          0                        1   \n",
       "1                          1                        0   \n",
       "2                          0                        1   \n",
       "\n",
       "   Item_Type_Combined_Non-Consumable  Outlet_Type_Grocery Store  \\\n",
       "0                                  0                          0   \n",
       "1                                  0                          0   \n",
       "2                                  0                          0   \n",
       "\n",
       "   Outlet_Type_Supermarket Type1  Outlet_Type_Supermarket Type2  \\\n",
       "0                              1                              0   \n",
       "1                              0                              1   \n",
       "2                              1                              0   \n",
       "\n",
       "             ...             Outlet_Identifier_OUT018  \\\n",
       "0            ...                                    0   \n",
       "1            ...                                    1   \n",
       "2            ...                                    0   \n",
       "\n",
       "   Outlet_Identifier_OUT019  Outlet_Identifier_OUT027  \\\n",
       "0                         0                         0   \n",
       "1                         0                         0   \n",
       "2                         0                         0   \n",
       "\n",
       "   Outlet_Identifier_OUT035  Outlet_Identifier_OUT045  \\\n",
       "0                         0                         0   \n",
       "1                         0                         0   \n",
       "2                         0                         0   \n",
       "\n",
       "   Outlet_Identifier_OUT046  Outlet_Identifier_OUT049  \\\n",
       "0                         0                         1   \n",
       "1                         0                         0   \n",
       "2                         0                         1   \n",
       "\n",
       "   Item_Fat_Content_Low Fat  Item_Fat_Content_Non-Edible  \\\n",
       "0                         1                            0   \n",
       "1                         0                            0   \n",
       "2                         1                            0   \n",
       "\n",
       "   Item_Fat_Content_Regular  \n",
       "0                         0  \n",
       "1                         1  \n",
       "2                         0  \n",
       "\n",
       "[3 rows x 30 columns]"
      ]
     },
     "execution_count": 333,
     "metadata": {},
     "output_type": "execute_result"
    }
   ],
   "source": [
    "X.head(3)"
   ]
  },
  {
   "cell_type": "code",
   "execution_count": 32,
   "metadata": {},
   "outputs": [],
   "source": [
    "# Using RandomForestRegressor as ensemble for Model\n",
    "rfc = RandomForestRegressor(random_state=1,n_estimators=10)"
   ]
  },
  {
   "cell_type": "code",
   "execution_count": 33,
   "metadata": {},
   "outputs": [
    {
     "data": {
      "text/plain": [
       "RandomForestRegressor(bootstrap=True, criterion='mse', max_depth=None,\n",
       "           max_features='auto', max_leaf_nodes=None,\n",
       "           min_impurity_decrease=0.0, min_impurity_split=None,\n",
       "           min_samples_leaf=1, min_samples_split=2,\n",
       "           min_weight_fraction_leaf=0.0, n_estimators=10, n_jobs=None,\n",
       "           oob_score=False, random_state=1, verbose=0, warm_start=False)"
      ]
     },
     "execution_count": 33,
     "metadata": {},
     "output_type": "execute_result"
    }
   ],
   "source": [
    "rfc.fit(X_train,y_train)"
   ]
  },
  {
   "cell_type": "code",
   "execution_count": 34,
   "metadata": {},
   "outputs": [
    {
     "name": "stdout",
     "output_type": "stream",
     "text": [
      "{'bootstrap': True,\n",
      " 'criterion': 'mse',\n",
      " 'max_depth': None,\n",
      " 'max_features': 'auto',\n",
      " 'max_leaf_nodes': None,\n",
      " 'min_impurity_decrease': 0.0,\n",
      " 'min_impurity_split': None,\n",
      " 'min_samples_leaf': 1,\n",
      " 'min_samples_split': 2,\n",
      " 'min_weight_fraction_leaf': 0.0,\n",
      " 'n_estimators': 10,\n",
      " 'n_jobs': None,\n",
      " 'oob_score': False,\n",
      " 'random_state': 1,\n",
      " 'verbose': 0,\n",
      " 'warm_start': False}\n"
     ]
    }
   ],
   "source": [
    "from pprint import pprint\n",
    "pprint(rfc.get_params())"
   ]
  },
  {
   "cell_type": "code",
   "execution_count": 35,
   "metadata": {},
   "outputs": [
    {
     "data": {
      "text/plain": [
       "0.5172527675311982"
      ]
     },
     "execution_count": 35,
     "metadata": {},
     "output_type": "execute_result"
    }
   ],
   "source": [
    "rfc.score(X_val,y_val)"
   ]
  },
  {
   "cell_type": "code",
   "execution_count": 36,
   "metadata": {},
   "outputs": [
    {
     "data": {
      "text/plain": [
       "array([8.67990509e-02, 1.09904510e-01, 4.42661644e-01, 2.30476208e-02,\n",
       "       4.84312246e-03, 6.32225860e-03, 2.88090060e-03, 1.89852684e-01,\n",
       "       1.78684403e-03, 1.53702916e-03, 3.03079647e-02, 3.44539489e-03,\n",
       "       2.26053899e-03, 2.18644195e-03, 1.49786922e-03, 3.32276317e-03,\n",
       "       2.86201441e-03, 1.73537678e-05, 1.23305967e-03, 4.27166729e-03,\n",
       "       1.08878411e-03, 1.83491659e-05, 4.26718794e-02, 6.18480992e-03,\n",
       "       5.27353923e-03, 4.71097674e-03, 3.18794056e-03, 7.26269954e-03,\n",
       "       1.85763544e-03, 6.70265299e-03])"
      ]
     },
     "execution_count": 36,
     "metadata": {},
     "output_type": "execute_result"
    }
   ],
   "source": [
    "rfc.feature_importances_"
   ]
  },
  {
   "cell_type": "code",
   "execution_count": 342,
   "metadata": {},
   "outputs": [],
   "source": [
    "# Tuning the hyperparameters"
   ]
  },
  {
   "cell_type": "code",
   "execution_count": 37,
   "metadata": {},
   "outputs": [
    {
     "name": "stdout",
     "output_type": "stream",
     "text": [
      "{'bootstrap': [True, False],\n",
      " 'max_depth': [10, 20, 30, 40, 50, 60, 70, 80, 90, 100, 110, None],\n",
      " 'max_features': ['auto', 'sqrt'],\n",
      " 'min_samples_leaf': [1, 2, 4],\n",
      " 'min_samples_split': [2, 5, 10],\n",
      " 'n_estimators': [10, 14, 18, 23, 27, 32, 36, 41, 45, 50]}\n"
     ]
    }
   ],
   "source": [
    "n_estimators = [int(x) for x in np.linspace(start = 10, stop = 50, num = 10)]\n",
    "# Number of features to consider at every split\n",
    "max_features = ['auto', 'sqrt']\n",
    "# Maximum number of levels in tree\n",
    "max_depth = [int(x) for x in np.linspace(10, 110, num = 11)]\n",
    "max_depth.append(None)\n",
    "# Minimum number of samples required to split a node\n",
    "min_samples_split = [2, 5, 10]\n",
    "# Minimum number of samples required at each leaf node\n",
    "min_samples_leaf = [1, 2, 4]\n",
    "# Method of selecting samples for training each tree\n",
    "bootstrap = [True, False]\n",
    "# Create the random grid\n",
    "random_grid = {'n_estimators': n_estimators,\n",
    "               'max_features': max_features,\n",
    "               'max_depth': max_depth,\n",
    "               'min_samples_split': min_samples_split,\n",
    "               'min_samples_leaf': min_samples_leaf,\n",
    "               'bootstrap': bootstrap}\n",
    "pprint(random_grid)"
   ]
  },
  {
   "cell_type": "code",
   "execution_count": 38,
   "metadata": {},
   "outputs": [],
   "source": [
    "# Creating Random search Grid Model\n",
    "random_rf = RandomizedSearchCV(estimator=rfc,param_distributions = random_grid, cv = 10,n_iter = 10, random_state= 1)               "
   ]
  },
  {
   "cell_type": "code",
   "execution_count": null,
   "metadata": {},
   "outputs": [],
   "source": [
    "#  NOW ONLY PREDICT using random_rf.predict(X_test) : this will give you the best score for Model. No need to fit the again on train data.\n",
    "# Since we used Randomeized search CV we should then resort to Grid Search to find the best parameter. \n",
    "#  When the best parameter are recieved then do th predict and get the accuracy which is the accuracy you will get on production data."
   ]
  },
  {
   "cell_type": "code",
   "execution_count": 39,
   "metadata": {},
   "outputs": [
    {
     "data": {
      "text/plain": [
       "RandomizedSearchCV(cv=10, error_score='raise-deprecating',\n",
       "          estimator=RandomForestRegressor(bootstrap=True, criterion='mse', max_depth=None,\n",
       "           max_features='auto', max_leaf_nodes=None,\n",
       "           min_impurity_decrease=0.0, min_impurity_split=None,\n",
       "           min_samples_leaf=1, min_samples_split=2,\n",
       "           min_weight_fraction_leaf=0.0, n_estimators=10, n_jobs=None,\n",
       "           oob_score=False, random_state=1, verbose=0, warm_start=False),\n",
       "          fit_params=None, iid='warn', n_iter=10, n_jobs=None,\n",
       "          param_distributions={'n_estimators': [10, 14, 18, 23, 27, 32, 36, 41, 45, 50], 'max_features': ['auto', 'sqrt'], 'max_depth': [10, 20, 30, 40, 50, 60, 70, 80, 90, 100, 110, None], 'min_samples_split': [2, 5, 10], 'min_samples_leaf': [1, 2, 4], 'bootstrap': [True, False]},\n",
       "          pre_dispatch='2*n_jobs', random_state=1, refit=True,\n",
       "          return_train_score='warn', scoring=None, verbose=0)"
      ]
     },
     "execution_count": 39,
     "metadata": {},
     "output_type": "execute_result"
    }
   ],
   "source": [
    "\n",
    "\n",
    "random_rf.fit(X_train,y_train)"
   ]
  },
  {
   "cell_type": "code",
   "execution_count": 40,
   "metadata": {},
   "outputs": [
    {
     "data": {
      "text/plain": [
       "RandomForestRegressor(bootstrap=True, criterion='mse', max_depth=20,\n",
       "           max_features='auto', max_leaf_nodes=None,\n",
       "           min_impurity_decrease=0.0, min_impurity_split=None,\n",
       "           min_samples_leaf=2, min_samples_split=10,\n",
       "           min_weight_fraction_leaf=0.0, n_estimators=32, n_jobs=None,\n",
       "           oob_score=False, random_state=1, verbose=0, warm_start=False)"
      ]
     },
     "execution_count": 40,
     "metadata": {},
     "output_type": "execute_result"
    }
   ],
   "source": [
    "# Finding the best parameters given by algo\n",
    "random_rf.best_estimator_"
   ]
  },
  {
   "cell_type": "code",
   "execution_count": 41,
   "metadata": {},
   "outputs": [],
   "source": [
    "# Creating new RFC Model with tuned parameters given by RandomsearchCV\n",
    "rfc_model = RandomForestRegressor(bootstrap=True, criterion='mse', max_depth=20,\n",
    "           max_features='auto', max_leaf_nodes=None,\n",
    "           min_impurity_decrease=0.0, min_impurity_split=None,\n",
    "           min_samples_leaf=2, min_samples_split=10,\n",
    "           min_weight_fraction_leaf=0.0, n_estimators=32, n_jobs=None,\n",
    "           oob_score=False, random_state=1, verbose=0, warm_start=False)"
   ]
  },
  {
   "cell_type": "code",
   "execution_count": 42,
   "metadata": {},
   "outputs": [
    {
     "data": {
      "text/plain": [
       "RandomForestRegressor(bootstrap=True, criterion='mse', max_depth=20,\n",
       "           max_features='auto', max_leaf_nodes=None,\n",
       "           min_impurity_decrease=0.0, min_impurity_split=None,\n",
       "           min_samples_leaf=2, min_samples_split=10,\n",
       "           min_weight_fraction_leaf=0.0, n_estimators=32, n_jobs=None,\n",
       "           oob_score=False, random_state=1, verbose=0, warm_start=False)"
      ]
     },
     "execution_count": 42,
     "metadata": {},
     "output_type": "execute_result"
    }
   ],
   "source": [
    "rfc_model.fit(X_train,y_train)"
   ]
  },
  {
   "cell_type": "code",
   "execution_count": 49,
   "metadata": {},
   "outputs": [
    {
     "data": {
      "text/plain": [
       "array([ 695.761  , 1214.28604, 2867.00138, ..., 2639.69726, 1339.05696,\n",
       "       3519.55196])"
      ]
     },
     "execution_count": 49,
     "metadata": {},
     "output_type": "execute_result"
    }
   ],
   "source": [
    "rfc_pred = rfc.predict(X_val)\n",
    "rfc_pred"
   ]
  },
  {
   "cell_type": "code",
   "execution_count": 45,
   "metadata": {},
   "outputs": [
    {
     "name": "stdout",
     "output_type": "stream",
     "text": [
      "0.8189141702278955\n"
     ]
    },
    {
     "data": {
      "text/plain": [
       "0.5653711851652702"
      ]
     },
     "execution_count": 45,
     "metadata": {},
     "output_type": "execute_result"
    }
   ],
   "source": [
    "# Printing score on basis of new parameters on train and validation set\n",
    "print (rfc_model.score(X_train,y_train))\n",
    "rfc_model.score(X_val,y_val)"
   ]
  },
  {
   "cell_type": "code",
   "execution_count": 45,
   "metadata": {},
   "outputs": [],
   "source": [
    "# Printing the MSE and r2 score\n",
    "from sklearn.metrics import mean_squared_error, r2_score\n"
   ]
  },
  {
   "cell_type": "code",
   "execution_count": 50,
   "metadata": {},
   "outputs": [
    {
     "name": "stdout",
     "output_type": "stream",
     "text": [
      "1196.2510085216902\n"
     ]
    }
   ],
   "source": [
    "print (np.sqrt(mean_squared_error(y_val,rfc_pred)))"
   ]
  },
  {
   "cell_type": "code",
   "execution_count": 51,
   "metadata": {},
   "outputs": [],
   "source": [
    "# Not a good score and quite high RMSE for RFC. Let us try using Linear Reg with Lasso and Ridge "
   ]
  },
  {
   "cell_type": "code",
   "execution_count": 99,
   "metadata": {},
   "outputs": [],
   "source": [
    "from sklearn.linear_model import LinearRegression\n",
    "from sklearn.linear_model import Lasso,Ridge\n",
    "from sklearn.model_selection import KFold,cross_val_score"
   ]
  },
  {
   "cell_type": "code",
   "execution_count": 54,
   "metadata": {},
   "outputs": [],
   "source": [
    "lg = LinearRegression()"
   ]
  },
  {
   "cell_type": "code",
   "execution_count": 55,
   "metadata": {},
   "outputs": [
    {
     "data": {
      "text/plain": [
       "LinearRegression(copy_X=True, fit_intercept=True, n_jobs=None,\n",
       "         normalize=False)"
      ]
     },
     "execution_count": 55,
     "metadata": {},
     "output_type": "execute_result"
    }
   ],
   "source": [
    "lg.fit(X_train,y_train)"
   ]
  },
  {
   "cell_type": "code",
   "execution_count": 57,
   "metadata": {},
   "outputs": [
    {
     "data": {
      "text/plain": [
       "array([ 535.34046618, 1198.55526986, 3225.85801961, ..., 2627.27200657,\n",
       "       2349.69353221, 2465.99485345])"
      ]
     },
     "execution_count": 57,
     "metadata": {},
     "output_type": "execute_result"
    }
   ],
   "source": [
    "lg_pred = lg.predict(X_test)\n",
    "lg_pred"
   ]
  },
  {
   "cell_type": "code",
   "execution_count": 62,
   "metadata": {},
   "outputs": [
    {
     "name": "stdout",
     "output_type": "stream",
     "text": [
      "The coefficient for Item_Weight is 2.451094922984534\n",
      "The coefficient for Item_Visibility is -179.13108967609585\n",
      "The coefficient for Item_MRP is 15.595273636046937\n",
      "The coefficient for Outlet_Years is 16.19727130862206\n",
      "The coefficient for Item_Type_Combined_Drinks is -37.11637790230402\n",
      "The coefficient for Item_Type_Combined_Food is 42.48334005165001\n",
      "The coefficient for Item_Type_Combined_Non-Consumable is -5.366962149346684\n",
      "The coefficient for Outlet_Type_Grocery Store is -899.8052598731585\n",
      "The coefficient for Outlet_Type_Supermarket Type1 is 372.4698105046654\n",
      "The coefficient for Outlet_Type_Supermarket Type2 is -75.32820824001958\n",
      "The coefficient for Outlet_Type_Supermarket Type3 is 602.6636576085136\n",
      "The coefficient for Outlet_Location_Type_Tier 1 is -222.32525184222814\n",
      "The coefficient for Outlet_Location_Type_Tier 2 is 247.99770952397603\n",
      "The coefficient for Outlet_Location_Type_Tier 3 is -25.672457681748426\n",
      "The coefficient for Outlet_Size_High is -106.68841246195534\n",
      "The coefficient for Outlet_Size_Medium is 371.8255412987941\n",
      "The coefficient for Outlet_Size_Small is -265.1371288368391\n",
      "The coefficient for Outlet_Identifier_OUT010 is -446.3194945882867\n",
      "The coefficient for Outlet_Identifier_OUT013 is -106.6884124619553\n",
      "The coefficient for Outlet_Identifier_OUT017 is 158.64196963796917\n",
      "The coefficient for Outlet_Identifier_OUT018 is -75.32820824001995\n",
      "The coefficient for Outlet_Identifier_OUT019 is -453.4857652848722\n",
      "The coefficient for Outlet_Identifier_OUT027 is 602.6636576085134\n",
      "The coefficient for Outlet_Identifier_OUT035 is 167.56636287685978\n",
      "The coefficient for Outlet_Identifier_OUT045 is -78.21062299085239\n",
      "The coefficient for Outlet_Identifier_OUT046 is 386.67042151234347\n",
      "The coefficient for Outlet_Identifier_OUT049 is -155.50990806969946\n",
      "The coefficient for Item_Fat_Content_Low Fat is -12.732133637025166\n",
      "The coefficient for Item_Fat_Content_Non-Edible is -5.366962149344757\n",
      "The coefficient for Item_Fat_Content_Regular is 18.099095786370228\n",
      "\n",
      "\n",
      "The intercept for our model is -446.0338126854758\n"
     ]
    }
   ],
   "source": [
    "# Let us explore the coefficients for each of the independent attributes\n",
    "\n",
    "for idx, col_name in enumerate(X_train.columns):\n",
    "    print(\"The coefficient for {} is {}\".format(col_name, lg.coef_[idx]))\n",
    "\n",
    "    \n",
    "intercept = lg.intercept_\n",
    "\n",
    "print('\\n')\n",
    "\n",
    "print(\"The intercept for our model is {}\".format(intercept))"
   ]
  },
  {
   "cell_type": "code",
   "execution_count": 56,
   "metadata": {},
   "outputs": [],
   "source": [
    "from sklearn.metrics import mean_squared_error, r2_score"
   ]
  },
  {
   "cell_type": "code",
   "execution_count": 67,
   "metadata": {},
   "outputs": [
    {
     "name": "stdout",
     "output_type": "stream",
     "text": [
      "1141.3112788894944\n"
     ]
    }
   ],
   "source": [
    "print (np.sqrt(mean_squared_error(y_test,lg_pred)))"
   ]
  },
  {
   "cell_type": "code",
   "execution_count": 70,
   "metadata": {},
   "outputs": [
    {
     "name": "stdout",
     "output_type": "stream",
     "text": [
      "0.5637991016130433\n",
      "0.5605764005844391\n"
     ]
    }
   ],
   "source": [
    "print (lg.score(X_train,y_train))\n",
    "print (lg.score(X_test,y_test))"
   ]
  },
  {
   "cell_type": "code",
   "execution_count": 71,
   "metadata": {},
   "outputs": [],
   "source": [
    "# Not a good score and coeffiecents are very high. Let us pinalize them by using Ridge with diff values of alpha and try to see if we can have best fit."
   ]
  },
  {
   "cell_type": "code",
   "execution_count": 72,
   "metadata": {},
   "outputs": [],
   "source": [
    "# Ridge Model"
   ]
  },
  {
   "cell_type": "code",
   "execution_count": 100,
   "metadata": {},
   "outputs": [
    {
     "name": "stdout",
     "output_type": "stream",
     "text": [
      "The coefficient for Item_Weight is 2.451284184079085\n",
      "The coefficient for Item_Visibility is -176.45735033860404\n",
      "The coefficient for Item_MRP is 15.595307991945825\n",
      "The coefficient for Outlet_Years is 16.19574373085768\n",
      "The coefficient for Item_Type_Combined_Drinks is -37.10344148385854\n",
      "The coefficient for Item_Type_Combined_Food is 42.465991476513864\n",
      "The coefficient for Item_Type_Combined_Non-Consumable is -5.36254999286395\n",
      "The coefficient for Outlet_Type_Grocery Store is -899.6685032423193\n",
      "The coefficient for Outlet_Type_Supermarket Type1 is 372.435600611115\n",
      "The coefficient for Outlet_Type_Supermarket Type2 is -75.323254363154\n",
      "The coefficient for Outlet_Type_Supermarket Type3 is 602.5561569826776\n",
      "The coefficient for Outlet_Location_Type_Tier 1 is -222.3134288851876\n",
      "The coefficient for Outlet_Location_Type_Tier 2 is 247.98718892910142\n",
      "The coefficient for Outlet_Location_Type_Tier 3 is -25.6737600429938\n",
      "The coefficient for Outlet_Size_High is -106.6508588156312\n",
      "The coefficient for Outlet_Size_Medium is 371.80400762687617\n",
      "The coefficient for Outlet_Size_Small is -265.15314881455686\n",
      "The coefficient for Outlet_Identifier_OUT010 is -446.2558038574442\n",
      "The coefficient for Outlet_Identifier_OUT013 is -106.65085881576297\n",
      "The coefficient for Outlet_Identifier_OUT017 is 158.60235927224304\n",
      "The coefficient for Outlet_Identifier_OUT018 is -75.32325436291643\n",
      "The coefficient for Outlet_Identifier_OUT019 is -453.4126993801796\n",
      "The coefficient for Outlet_Identifier_OUT027 is 602.5561569828673\n",
      "The coefficient for Outlet_Identifier_OUT035 is 167.53103234043934\n",
      "The coefficient for Outlet_Identifier_OUT045 is -78.14620268657897\n",
      "The coefficient for Outlet_Identifier_OUT046 is 386.5281654893229\n",
      "The coefficient for Outlet_Identifier_OUT049 is -155.42889499372154\n",
      "The coefficient for Item_Fat_Content_Low Fat is -12.732035910436112\n",
      "The coefficient for Item_Fat_Content_Non-Edible is -5.362549992755137\n",
      "The coefficient for Item_Fat_Content_Regular is 18.09458590149046\n",
      "\n",
      "\n",
      "The intercept for our model is -446.16436325989025\n"
     ]
    }
   ],
   "source": [
    "ridge = Ridge(alpha=.3)\n",
    "ridge.fit(X_train,y_train)\n",
    "\n",
    "\n",
    "for idx, col_name in enumerate(X_train.columns):\n",
    "    print(\"The coefficient for {} is {}\".format(col_name, ridge.coef_[idx]))\n",
    "\n",
    "    \n",
    "intercept_ridge = ridge.intercept_\n",
    "\n",
    "print('\\n')\n",
    "\n",
    "print(\"The intercept for our model is {}\".format(intercept_ridge))"
   ]
  },
  {
   "cell_type": "code",
   "execution_count": 102,
   "metadata": {},
   "outputs": [],
   "source": [
    "ridge_pred = ridge.predict(X_test)\n"
   ]
  },
  {
   "cell_type": "code",
   "execution_count": 103,
   "metadata": {},
   "outputs": [
    {
     "name": "stdout",
     "output_type": "stream",
     "text": [
      "0.5637990879095074\n",
      "0.5605814094226276\n",
      "1141.3047741639666\n"
     ]
    }
   ],
   "source": [
    "print (ridge.score(X_train,y_train))\n",
    "print (ridge.score(X_test,y_test))\n",
    "print (np.sqrt(mean_squared_error(y_test,ridge_pred)))"
   ]
  },
  {
   "cell_type": "code",
   "execution_count": 81,
   "metadata": {},
   "outputs": [],
   "source": [
    "# We can see there is no impact with changing alpha values also. Let us look at lasso and visualize if there is impact:"
   ]
  },
  {
   "cell_type": "code",
   "execution_count": 104,
   "metadata": {},
   "outputs": [
    {
     "name": "stdout",
     "output_type": "stream",
     "text": [
      "The coefficient for Item_Weight is 2.4662414651779154\n",
      "The coefficient for Item_Visibility is -51.71683298227449\n",
      "The coefficient for Item_MRP is 15.596941512719143\n",
      "The coefficient for Outlet_Years is 0.6780721733524909\n",
      "The coefficient for Item_Type_Combined_Drinks is -17.61825478203909\n",
      "The coefficient for Item_Type_Combined_Food is 58.235471696479514\n",
      "The coefficient for Item_Type_Combined_Non-Consumable is -0.0\n",
      "The coefficient for Outlet_Type_Grocery Store is -1945.2105086685522\n",
      "The coefficient for Outlet_Type_Supermarket Type1 is 0.0\n",
      "The coefficient for Outlet_Type_Supermarket Type2 is -320.2253145149453\n",
      "The coefficient for Outlet_Type_Supermarket Type3 is 1358.8569235547682\n",
      "The coefficient for Outlet_Location_Type_Tier 1 is -0.0\n",
      "The coefficient for Outlet_Location_Type_Tier 2 is 4.511272625408288\n",
      "The coefficient for Outlet_Location_Type_Tier 3 is -0.0\n",
      "The coefficient for Outlet_Size_High is -0.0\n",
      "The coefficient for Outlet_Size_Medium is 43.3078758962598\n",
      "The coefficient for Outlet_Size_Small is -0.0\n",
      "The coefficient for Outlet_Identifier_OUT010 is -0.0\n",
      "The coefficient for Outlet_Identifier_OUT013 is -0.0\n",
      "The coefficient for Outlet_Identifier_OUT017 is 62.75990310051588\n",
      "The coefficient for Outlet_Identifier_OUT018 is -0.053585524157702666\n",
      "The coefficient for Outlet_Identifier_OUT019 is -0.0\n",
      "The coefficient for Outlet_Identifier_OUT027 is 44.39922854744777\n",
      "The coefficient for Outlet_Identifier_OUT035 is 118.35180116928402\n",
      "The coefficient for Outlet_Identifier_OUT045 is -91.0017147914151\n",
      "The coefficient for Outlet_Identifier_OUT046 is -14.424715959342679\n",
      "The coefficient for Outlet_Identifier_OUT049 is 0.48513089837729867\n",
      "The coefficient for Item_Fat_Content_Low Fat is -18.788323927019405\n",
      "The coefficient for Item_Fat_Content_Non-Edible is 0.0\n",
      "The coefficient for Item_Fat_Content_Regular is 10.81693175995988\n",
      "\n",
      "\n",
      "The intercept for our model is 10.463541712575989\n"
     ]
    }
   ],
   "source": [
    "lasso = Lasso(alpha = 0.3)\n",
    "lasso.fit(X_train,y_train)\n",
    "\n",
    "for idx, col_name in enumerate(X_train.columns):\n",
    "    print(\"The coefficient for {} is {}\".format(col_name, lasso.coef_[idx]))\n",
    "\n",
    "    \n",
    "intercept_lasso = lasso.intercept_\n",
    "\n",
    "print('\\n')\n",
    "\n",
    "print(\"The intercept for our model is {}\".format(intercept_lasso))"
   ]
  },
  {
   "cell_type": "code",
   "execution_count": 105,
   "metadata": {},
   "outputs": [],
   "source": [
    "lasso_pred = lasso.predict(X_test)\n"
   ]
  },
  {
   "cell_type": "code",
   "execution_count": 106,
   "metadata": {},
   "outputs": [
    {
     "name": "stdout",
     "output_type": "stream",
     "text": [
      "0.5637837263691496\n",
      "0.5605847894137677\n",
      "1141.300384718998\n"
     ]
    }
   ],
   "source": [
    "print (lasso.score(X_train,y_train))\n",
    "print (lasso.score(X_test,y_test))\n",
    "print (np.sqrt(mean_squared_error(y_test,lasso_pred)))"
   ]
  },
  {
   "cell_type": "code",
   "execution_count": 117,
   "metadata": {},
   "outputs": [],
   "source": [
    "# From Lasso we can analyze there are lot of feature which have 0 coeffecients hence not needed for model building. We can certainly remove those features from model and try to improve the score. Dropping Features with 0 Coeffecient"
   ]
  },
  {
   "cell_type": "code",
   "execution_count": 38,
   "metadata": {},
   "outputs": [],
   "source": [
    "X = df_train.drop(columns=['Item_Outlet_Sales','Item_Identifier','Item_Type_Combined_Non-Consumable','Outlet_Type_Supermarket Type1',\n",
    "'Outlet_Size_High','Outlet_Location_Type_Tier 3',\n",
    "'Outlet_Identifier_OUT013',\n",
    "'Outlet_Identifier_OUT010',\n",
    "'Outlet_Identifier_OUT018',\n",
    "'Outlet_Identifier_OUT019',\n",
    "'Item_Fat_Content_Non-Edible',\n",
    "'Outlet_Size_Small'])\n",
    "\n",
    "\n",
    "y = df_train['Item_Outlet_Sales']"
   ]
  },
  {
   "cell_type": "code",
   "execution_count": 34,
   "metadata": {},
   "outputs": [],
   "source": [
    "X_train_new, X_val_new, y_train_new, y_val_new = train_test_split(X, y, test_size=0.20, random_state=1)\n",
    "X_train_new, X_test_new,y_train_new,y_test_new = train_test_split(X,y,test_size=0.20,random_state=1)"
   ]
  },
  {
   "cell_type": "code",
   "execution_count": null,
   "metadata": {},
   "outputs": [],
   "source": [
    "# Let us again run the Linear regression and Lasso/Ridge to analyse the performance now."
   ]
  },
  {
   "cell_type": "code",
   "execution_count": 127,
   "metadata": {},
   "outputs": [
    {
     "name": "stdout",
     "output_type": "stream",
     "text": [
      "The coefficient for Item_Weight is 2.451094922985037\n",
      "The coefficient for Item_Visibility is -179.13108967607104\n",
      "The coefficient for Item_MRP is 15.595273636046922\n",
      "The coefficient for Outlet_Years is 22.230247759044577\n",
      "The coefficient for Item_Type_Combined_Drinks is -31.74941575295943\n",
      "The coefficient for Item_Type_Combined_Food is 47.85030220099589\n",
      "The coefficient for Outlet_Type_Grocery Store is -1703.9921279243915\n",
      "The coefficient for Outlet_Type_Supermarket Type2 is -229.6217275025782\n",
      "The coefficient for Outlet_Type_Supermarket Type3 is 490.7852846921738\n",
      "The coefficient for Outlet_Location_Type_Tier 1 is -282.24775871255906\n",
      "The coefficient for Outlet_Location_Type_Tier 2 is 306.8605187060854\n",
      "The coefficient for Outlet_Size_Medium is 424.4233486498763\n",
      "The coefficient for Outlet_Identifier_OUT017 is 194.3508432331322\n",
      "The coefficient for Outlet_Identifier_OUT027 is 490.7852846921742\n",
      "The coefficient for Outlet_Identifier_OUT035 is 185.1763071207551\n",
      "The coefficient for Outlet_Identifier_OUT045 is -72.66663164780219\n",
      "The coefficient for Outlet_Identifier_OUT046 is 480.83484665572195\n",
      "The coefficient for Outlet_Identifier_OUT049 is 163.25979146028035\n",
      "The coefficient for Item_Fat_Content_Low Fat is -7.365171487679277\n",
      "The coefficient for Item_Fat_Content_Regular is 23.46605793571527\n",
      "\n",
      "\n",
      "The intercept for our model is -456.07269099446376\n",
      "1141.3112788894944\n",
      "0.5637991016130433\n",
      "0.5605764005844391\n"
     ]
    }
   ],
   "source": [
    "lg_new = LinearRegression()\n",
    "lg_new.fit(X_train_new,y_train_new)\n",
    "\n",
    "for idx, col_name in enumerate(X_train_new.columns):\n",
    "    print(\"The coefficient for {} is {}\".format(col_name, lg_new.coef_[idx]))\n",
    "\n",
    "    \n",
    "intercept_new = lg_new.intercept_\n",
    "\n",
    "print('\\n')\n",
    "\n",
    "print(\"The intercept for our model is {}\".format(intercept_new))\n",
    "\n",
    "lg_pred_new = lg_new.predict(X_test_new)\n",
    "lg_pred_new\n",
    "\n",
    "print (np.sqrt(mean_squared_error(y_test,lg_pred_new)))\n",
    "print (lg_new.score(X_train_new,y_train_new))\n",
    "print (lg_new.score(X_test_new,y_test_new))"
   ]
  },
  {
   "cell_type": "code",
   "execution_count": 128,
   "metadata": {},
   "outputs": [],
   "source": [
    "# Not much improvement let us run again with number of degrees"
   ]
  },
  {
   "cell_type": "code",
   "execution_count": 156,
   "metadata": {},
   "outputs": [],
   "source": [
    "from sklearn.preprocessing import PolynomialFeatures"
   ]
  },
  {
   "cell_type": "code",
   "execution_count": 157,
   "metadata": {},
   "outputs": [],
   "source": [
    "poly = PolynomialFeatures(interaction_only=True,degree=3)"
   ]
  },
  {
   "cell_type": "code",
   "execution_count": 178,
   "metadata": {},
   "outputs": [
    {
     "data": {
      "text/plain": [
       "(6818, 20)"
      ]
     },
     "execution_count": 178,
     "metadata": {},
     "output_type": "execute_result"
    }
   ],
   "source": [
    "X_poly_new = poly.fit_transform(X)\n",
    "X_train_new1, X_test_new1, y_train_new1, y_test_new1 = train_test_split(X_poly_new, y, test_size=0.20, random_state=1)\n",
    "X_train_new1, X_val_new1, y_train_new1, y_val_new1 = train_test_split(X_poly_new, y, test_size=0.20, random_state=1)\n",
    "X_train.shape"
   ]
  },
  {
   "cell_type": "code",
   "execution_count": 179,
   "metadata": {},
   "outputs": [
    {
     "name": "stdout",
     "output_type": "stream",
     "text": [
      "[-7.99103838e-08 -6.74924602e+00 -1.98666924e+02 ...  0.00000000e+00\n",
      "  0.00000000e+00  0.00000000e+00]\n",
      "\n",
      "\n",
      "The intercept for our model is 603.3748619285959\n"
     ]
    }
   ],
   "source": [
    "lg.fit(X_train_new1, y_train_new1)\n",
    "\n",
    "\n",
    "print (lg.coef_)\n",
    "\n",
    "intercept = lg.intercept_\n",
    "\n",
    "print('\\n')\n",
    "\n",
    "print(\"The intercept for our model is {}\".format(intercept))"
   ]
  },
  {
   "cell_type": "code",
   "execution_count": 180,
   "metadata": {},
   "outputs": [
    {
     "name": "stdout",
     "output_type": "stream",
     "text": [
      "0.616658997136606\n"
     ]
    },
    {
     "data": {
      "text/plain": [
       "0.5939581468818207"
      ]
     },
     "execution_count": 180,
     "metadata": {},
     "output_type": "execute_result"
    }
   ],
   "source": [
    "print (lg.score(X_train_new1, y_train_new1))\n",
    "lg.score(X_val_new1,y_val_new1)"
   ]
  },
  {
   "cell_type": "code",
   "execution_count": 136,
   "metadata": {},
   "outputs": [
    {
     "name": "stdout",
     "output_type": "stream",
     "text": [
      "Ridge model: [   0.           -9.68541129 -137.08829148 ...    0.            0.\n",
      "    0.        ]\n"
     ]
    }
   ],
   "source": [
    "ridge = Ridge(alpha=.3)\n",
    "ridge.fit(X_train_new1,y_train_new1)\n",
    "print (\"Ridge model:\", (ridge.coef_))"
   ]
  },
  {
   "cell_type": "code",
   "execution_count": 137,
   "metadata": {},
   "outputs": [
    {
     "name": "stdout",
     "output_type": "stream",
     "text": [
      "0.6135328749987852\n",
      "0.6044684537266721\n"
     ]
    }
   ],
   "source": [
    "print(ridge.score(X_train_new1, y_train_new1))\n",
    "print(ridge.score(X_test_new1, y_test_new1))"
   ]
  },
  {
   "cell_type": "code",
   "execution_count": 142,
   "metadata": {},
   "outputs": [
    {
     "name": "stdout",
     "output_type": "stream",
     "text": [
      "The coefficient for Item_Weight is 0.0\n",
      "The coefficient for Item_Visibility is 0.4502142174888381\n",
      "The coefficient for Item_MRP is -0.0\n",
      "The coefficient for Outlet_Years is 15.642292010434176\n",
      "The coefficient for Item_Type_Combined_Drinks is -40.363973124180625\n",
      "The coefficient for Item_Type_Combined_Food is 0.0\n",
      "The coefficient for Outlet_Type_Grocery Store is -60.086165381335164\n",
      "The coefficient for Outlet_Type_Supermarket Type2 is -311.69782296129495\n",
      "The coefficient for Outlet_Type_Supermarket Type3 is 0.0\n",
      "The coefficient for Outlet_Location_Type_Tier 1 is 1088.803361566071\n",
      "The coefficient for Outlet_Location_Type_Tier 2 is -0.0\n",
      "The coefficient for Outlet_Size_Medium is 0.0\n",
      "The coefficient for Outlet_Identifier_OUT017 is 6.16987353273909\n",
      "The coefficient for Outlet_Identifier_OUT027 is 0.0\n",
      "The coefficient for Outlet_Identifier_OUT035 is 84.74219759259101\n",
      "The coefficient for Outlet_Identifier_OUT045 is 0.0\n",
      "The coefficient for Outlet_Identifier_OUT046 is -0.0\n",
      "The coefficient for Outlet_Identifier_OUT049 is 0.0\n",
      "The coefficient for Item_Fat_Content_Low Fat is -0.0\n",
      "The coefficient for Item_Fat_Content_Regular is 0.0\n",
      "\n",
      "\n",
      "The intercept for our model is 409.48267437322284\n"
     ]
    },
    {
     "name": "stderr",
     "output_type": "stream",
     "text": [
      "C:\\Users\\Pmohan\\AppData\\Local\\Continuum\\anaconda2\\envs\\py36\\lib\\site-packages\\sklearn\\linear_model\\coordinate_descent.py:492: ConvergenceWarning: Objective did not converge. You might want to increase the number of iterations. Fitting data with very small alpha may cause precision problems.\n",
      "  ConvergenceWarning)\n"
     ]
    }
   ],
   "source": [
    "lasso = Lasso(alpha=0.1)\n",
    "lasso.fit(X_train_new1,y_train_new1)\n",
    "\n",
    "for idx, col_name in enumerate(X_train_new.columns):\n",
    "    print(\"The coefficient for {} is {}\".format(col_name, lasso.coef_[idx]))\n",
    "\n",
    "    \n",
    "intercept = lasso.intercept_\n",
    "\n",
    "print('\\n')\n",
    "\n",
    "print(\"The intercept for our model is {}\".format(intercept))\n"
   ]
  },
  {
   "cell_type": "code",
   "execution_count": 181,
   "metadata": {},
   "outputs": [
    {
     "name": "stdout",
     "output_type": "stream",
     "text": [
      "0.6145990242144512\n",
      "0.5944292611525627\n"
     ]
    }
   ],
   "source": [
    "print(lasso.score(X_train_new1, y_train_new1))\n",
    "print(lasso.score(X_val_new1, y_val_new1))\n"
   ]
  },
  {
   "cell_type": "code",
   "execution_count": 146,
   "metadata": {},
   "outputs": [],
   "source": [
    "# Now Lasso is trying to kick out all the dimensions as we are penalizing it more hence we will not penalize it further."
   ]
  },
  {
   "cell_type": "code",
   "execution_count": 147,
   "metadata": {},
   "outputs": [],
   "source": [
    "# # Let us check out other Ensemble models to see the performance . \n",
    "# 1- RFC\n",
    "# 2- Adaboost\n",
    "# 3- GradientBoost\n",
    "# 3- XGBoost\n",
    "# 3- Catboost"
   ]
  },
  {
   "cell_type": "code",
   "execution_count": 39,
   "metadata": {},
   "outputs": [],
   "source": [
    "X = df_train.drop(columns=['Item_Outlet_Sales','Item_Identifier','Item_Type_Combined_Non-Consumable','Outlet_Type_Supermarket Type1',\n",
    " 'Outlet_Size_High','Outlet_Location_Type_Tier 3',\n",
    " 'Outlet_Identifier_OUT013',\n",
    " 'Outlet_Identifier_OUT010',\n",
    " 'Outlet_Identifier_OUT018',\n",
    " 'Outlet_Identifier_OUT019',\n",
    " 'Item_Fat_Content_Non-Edible',\n",
    " 'Outlet_Size_Small'])\n",
    "\n",
    "\n",
    "y = df_train['Item_Outlet_Sales']\n",
    "\n",
    "\n"
   ]
  },
  {
   "cell_type": "code",
   "execution_count": 40,
   "metadata": {},
   "outputs": [],
   "source": [
    "\n",
    "X_train, X_test, y_train, y_test = train_test_split(X, y, test_size=0.20, random_state=1)\n",
    "X_train, X_val, y_train, y_val = train_test_split(X, y, test_size=0.20, random_state=1)\n"
   ]
  },
  {
   "cell_type": "code",
   "execution_count": 60,
   "metadata": {},
   "outputs": [
    {
     "data": {
      "text/plain": [
       "RandomForestRegressor(bootstrap=True, criterion='mse', max_depth=None,\n",
       "           max_features='auto', max_leaf_nodes=None,\n",
       "           min_impurity_decrease=0.0, min_impurity_split=None,\n",
       "           min_samples_leaf=1, min_samples_split=2,\n",
       "           min_weight_fraction_leaf=0.0, n_estimators=10, n_jobs=None,\n",
       "           oob_score=False, random_state=1, verbose=0, warm_start=False)"
      ]
     },
     "execution_count": 60,
     "metadata": {},
     "output_type": "execute_result"
    }
   ],
   "source": [
    "rfc  = RandomForestRegressor(n_estimators= 10,random_state=1)\n",
    "rfc.fit(X_train,y_train)"
   ]
  },
  {
   "cell_type": "code",
   "execution_count": 61,
   "metadata": {},
   "outputs": [
    {
     "name": "stdout",
     "output_type": "stream",
     "text": [
      "0.9151580174185582\n",
      "0.513853730785969\n"
     ]
    }
   ],
   "source": [
    "print(rfc.score(X_train, y_train))\n",
    "print(rfc.score(X_val, y_val))"
   ]
  },
  {
   "cell_type": "code",
   "execution_count": 165,
   "metadata": {},
   "outputs": [],
   "source": [
    "# RFC Shown as being Overfit Model. We will now tune the parameters and anaylze if we can find the best spot in Bias-Variance Tradeoff"
   ]
  },
  {
   "cell_type": "code",
   "execution_count": 200,
   "metadata": {},
   "outputs": [
    {
     "name": "stdout",
     "output_type": "stream",
     "text": [
      "{'bootstrap': [True, False],\n",
      " 'max_depth': [10, 20, 30, 40, 50, 60, 70, 80, 90, 100, 110, None],\n",
      " 'max_features': ['auto', 'sqrt'],\n",
      " 'min_samples_leaf': [1, 2, 4],\n",
      " 'min_samples_split': [2, 5, 10],\n",
      " 'n_estimators': [10, 31, 52, 73, 94, 115, 136, 157, 178, 200]}\n"
     ]
    }
   ],
   "source": [
    "n_estimators = [int(x) for x in np.linspace(start = 10, stop = 200, num = 10)]\n",
    "# Number of features to consider at every split\n",
    "max_features = ['auto', 'sqrt']\n",
    "# Maximum number of levels in tree\n",
    "max_depth = [int(x) for x in np.linspace(10, 110, num = 11)]\n",
    "max_depth.append(None)\n",
    "# Minimum number of samples required to split a node\n",
    "min_samples_split = [2, 5, 10]\n",
    "# Minimum number of samples required at each leaf node\n",
    "min_samples_leaf = [1, 2, 4]\n",
    "# Method of selecting samples for training each tree\n",
    "bootstrap = [True, False]\n",
    "# Create the random grid\n",
    "random_grid = {'n_estimators': n_estimators,\n",
    "               'max_features': max_features,\n",
    "               'max_depth': max_depth,\n",
    "               'min_samples_split': min_samples_split,\n",
    "               'min_samples_leaf': min_samples_leaf,\n",
    "               'bootstrap': bootstrap}\n",
    "pprint(random_grid)"
   ]
  },
  {
   "cell_type": "code",
   "execution_count": 201,
   "metadata": {},
   "outputs": [
    {
     "data": {
      "text/plain": [
       "RandomForestRegressor(bootstrap=True, criterion='mse', max_depth=10,\n",
       "           max_features='sqrt', max_leaf_nodes=None,\n",
       "           min_impurity_decrease=0.0, min_impurity_split=None,\n",
       "           min_samples_leaf=2, min_samples_split=10,\n",
       "           min_weight_fraction_leaf=0.0, n_estimators=94, n_jobs=None,\n",
       "           oob_score=False, random_state=1, verbose=0, warm_start=False)"
      ]
     },
     "execution_count": 201,
     "metadata": {},
     "output_type": "execute_result"
    }
   ],
   "source": [
    "# Creating Random search Grid Model\n",
    "random_rf = RandomizedSearchCV(estimator=rfc,param_distributions = random_grid, cv = 10,n_iter = 10, random_state= 1)\n",
    "random_rf.fit(X_train,y_train)\n",
    "random_rf.best_estimator_"
   ]
  },
  {
   "cell_type": "code",
   "execution_count": 189,
   "metadata": {},
   "outputs": [],
   "source": [
    "rfc_model = RandomForestRegressor(bootstrap=True, criterion='mse', max_depth=10,\n",
    "           max_features='sqrt', max_leaf_nodes=None,\n",
    "           min_impurity_decrease=0.0, min_impurity_split=None,\n",
    "           min_samples_leaf=2, min_samples_split=10,\n",
    "           min_weight_fraction_leaf=0.0, n_estimators=94, n_jobs=None,\n",
    "           oob_score=False, random_state=1, verbose=0, warm_start=False)\n",
    "rfc_model.fit(X_train,y_train)"
   ]
  },
  {
   "cell_type": "code",
   "execution_count": 202,
   "metadata": {},
   "outputs": [
    {
     "name": "stdout",
     "output_type": "stream",
     "text": [
      "0.9151580174185582\n",
      "0.513853730785969\n"
     ]
    }
   ],
   "source": [
    "print(rfc.score(X_train, y_train))\n",
    "print(rfc.score(X_val, y_val))\n"
   ]
  },
  {
   "cell_type": "code",
   "execution_count": 203,
   "metadata": {},
   "outputs": [
    {
     "data": {
      "text/plain": [
       "array([0.08853526, 0.11044632, 0.44332723, 0.04736287, 0.0045002 ,\n",
       "       0.00870436, 0.18985268, 0.00327258, 0.02066175, 0.00384501,\n",
       "       0.00356033, 0.00383706, 0.00433071, 0.03302988, 0.00595266,\n",
       "       0.00523137, 0.0049541 , 0.00383303, 0.00715806, 0.00760454])"
      ]
     },
     "execution_count": 203,
     "metadata": {},
     "output_type": "execute_result"
    }
   ],
   "source": [
    "rfc.feature_importances_"
   ]
  },
  {
   "cell_type": "code",
   "execution_count": 225,
   "metadata": {},
   "outputs": [],
   "source": [
    "# kf = KFold(n_splits=10, shuffle=True, random_state=1)\n",
    "# for train_index, test_index in kf.split(X):\n",
    "#     rfc_model = rfc.fit(X[train_index], y[train_index])\n",
    "#     predictions = rfc_model.predict(X[test_index])\n",
    "#     actuals = y[test_index]\n",
    "# print(mean_squared_error(actuals, predictions))\n",
    "# # print(rfc.score(X_train, y_train))\n",
    "# # print(rfc.score(X_val, y_val))"
   ]
  },
  {
   "cell_type": "code",
   "execution_count": 62,
   "metadata": {},
   "outputs": [],
   "source": [
    "# Implementing AdaBoostRegressor"
   ]
  },
  {
   "cell_type": "code",
   "execution_count": 66,
   "metadata": {},
   "outputs": [],
   "source": [
    "from sklearn.ensemble import AdaBoostRegressor"
   ]
  },
  {
   "cell_type": "code",
   "execution_count": 124,
   "metadata": {},
   "outputs": [],
   "source": [
    "adreg = AdaBoostRegressor(n_estimators=10,learning_rate=0.1,random_state= 1)"
   ]
  },
  {
   "cell_type": "code",
   "execution_count": 125,
   "metadata": {},
   "outputs": [
    {
     "data": {
      "text/plain": [
       "AdaBoostRegressor(base_estimator=None, learning_rate=0.1, loss='linear',\n",
       "         n_estimators=10, random_state=1)"
      ]
     },
     "execution_count": 125,
     "metadata": {},
     "output_type": "execute_result"
    }
   ],
   "source": [
    "adreg.fit(X_train,y_train)"
   ]
  },
  {
   "cell_type": "code",
   "execution_count": 126,
   "metadata": {},
   "outputs": [
    {
     "name": "stdout",
     "output_type": "stream",
     "text": [
      "1165.6310327738086\n",
      "0.5347475113597693\n",
      "0.5416498674707482\n"
     ]
    }
   ],
   "source": [
    "ada_pred = adreg.predict(X_val)\n",
    "print (np.sqrt(mean_squared_error(y_val,ada_pred)))\n",
    "print (adreg.score(X_train,y_train))\n",
    "print (adreg.score(X_val,y_val))"
   ]
  },
  {
   "cell_type": "code",
   "execution_count": 127,
   "metadata": {},
   "outputs": [],
   "source": [
    "# Parameter tuning for Adabost"
   ]
  },
  {
   "cell_type": "code",
   "execution_count": 130,
   "metadata": {},
   "outputs": [],
   "source": [
    "n_estimators = [int(x) for x in np.linspace(start = 10, stop = 100, num = 10)]\n",
    "learning_rate = [0.01,0.05,0.1,0.3,1]\n",
    "loss = ['linear', 'square', 'exponential']\n",
    "# Create the random grid\n",
    "random_grid1 = {'n_estimators': n_estimators,\n",
    "               'learning_rate': learning_rate,\n",
    "               'loss': loss}"
   ]
  },
  {
   "cell_type": "code",
   "execution_count": 134,
   "metadata": {},
   "outputs": [],
   "source": [
    "\n",
    "random_rv1 = RandomizedSearchCV(estimator = adreg,param_distributions = random_grid1, cv = 10,n_iter = 10, random_state= 1)"
   ]
  },
  {
   "cell_type": "code",
   "execution_count": 135,
   "metadata": {},
   "outputs": [
    {
     "data": {
      "text/plain": [
       "RandomizedSearchCV(cv=10, error_score='raise-deprecating',\n",
       "          estimator=AdaBoostRegressor(base_estimator=None, learning_rate=0.1, loss='linear',\n",
       "         n_estimators=10, random_state=1),\n",
       "          fit_params=None, iid='warn', n_iter=10, n_jobs=None,\n",
       "          param_distributions={'n_estimators': [10, 20, 30, 40, 50, 60, 70, 80, 90, 100], 'learning_rate': [0.01, 0.05, 0.1, 0.3, 1], 'loss': ['linear', 'square', 'exponential']},\n",
       "          pre_dispatch='2*n_jobs', random_state=1, refit=True,\n",
       "          return_train_score='warn', scoring=None, verbose=0)"
      ]
     },
     "execution_count": 135,
     "metadata": {},
     "output_type": "execute_result"
    }
   ],
   "source": [
    "random_rv1.fit(X_train,y_train)"
   ]
  },
  {
   "cell_type": "code",
   "execution_count": 136,
   "metadata": {},
   "outputs": [
    {
     "data": {
      "text/plain": [
       "AdaBoostRegressor(base_estimator=None, learning_rate=0.05, loss='square',\n",
       "         n_estimators=50, random_state=1)"
      ]
     },
     "execution_count": 136,
     "metadata": {},
     "output_type": "execute_result"
    }
   ],
   "source": [
    "random_rv1.best_estimator_"
   ]
  },
  {
   "cell_type": "code",
   "execution_count": 137,
   "metadata": {},
   "outputs": [],
   "source": [
    "# Using the best parameters training again for Adaboost"
   ]
  },
  {
   "cell_type": "code",
   "execution_count": 147,
   "metadata": {},
   "outputs": [],
   "source": [
    "adreg_new = AdaBoostRegressor(\n",
    "learning_rate=0.05, loss='square',\n",
    "         n_estimators=50, random_state=1)"
   ]
  },
  {
   "cell_type": "code",
   "execution_count": 148,
   "metadata": {},
   "outputs": [
    {
     "data": {
      "text/plain": [
       "AdaBoostRegressor(base_estimator=None, learning_rate=0.05, loss='square',\n",
       "         n_estimators=50, random_state=1)"
      ]
     },
     "execution_count": 148,
     "metadata": {},
     "output_type": "execute_result"
    }
   ],
   "source": [
    "adreg_new.fit(X_train,y_train)"
   ]
  },
  {
   "cell_type": "code",
   "execution_count": 149,
   "metadata": {},
   "outputs": [
    {
     "name": "stdout",
     "output_type": "stream",
     "text": [
      "1165.6310327738086\n",
      "0.5347475113597693\n",
      "0.5416498674707482\n"
     ]
    }
   ],
   "source": [
    "ada_pred_new = adreg.predict(X_test)\n",
    "print (np.sqrt(mean_squared_error(y_test,ada_pred_new)))\n",
    "print (adreg.score(X_train,y_train))\n",
    "print (adreg.score(X_test,y_test))"
   ]
  },
  {
   "cell_type": "code",
   "execution_count": 150,
   "metadata": {},
   "outputs": [],
   "source": [
    "#  Implementing GradientBoosting"
   ]
  },
  {
   "cell_type": "code",
   "execution_count": 151,
   "metadata": {},
   "outputs": [],
   "source": [
    "from sklearn.ensemble import GradientBoostingRegressor"
   ]
  },
  {
   "cell_type": "code",
   "execution_count": 153,
   "metadata": {},
   "outputs": [],
   "source": [
    "gdb_reg = GradientBoostingRegressor(n_estimators= 50, random_state=1)"
   ]
  },
  {
   "cell_type": "code",
   "execution_count": 154,
   "metadata": {},
   "outputs": [
    {
     "data": {
      "text/plain": [
       "GradientBoostingRegressor(alpha=0.9, criterion='friedman_mse', init=None,\n",
       "             learning_rate=0.1, loss='ls', max_depth=3, max_features=None,\n",
       "             max_leaf_nodes=None, min_impurity_decrease=0.0,\n",
       "             min_impurity_split=None, min_samples_leaf=1,\n",
       "             min_samples_split=2, min_weight_fraction_leaf=0.0,\n",
       "             n_estimators=50, n_iter_no_change=None, presort='auto',\n",
       "             random_state=1, subsample=1.0, tol=0.0001,\n",
       "             validation_fraction=0.1, verbose=0, warm_start=False)"
      ]
     },
     "execution_count": 154,
     "metadata": {},
     "output_type": "execute_result"
    }
   ],
   "source": [
    "gdb_reg.fit(X_train,y_train)"
   ]
  },
  {
   "cell_type": "code",
   "execution_count": 159,
   "metadata": {},
   "outputs": [],
   "source": [
    "from sklearn.metrics import explained_variance_score"
   ]
  },
  {
   "cell_type": "code",
   "execution_count": 166,
   "metadata": {},
   "outputs": [
    {
     "name": "stdout",
     "output_type": "stream",
     "text": [
      "0.6210807984362223\n",
      "0.5957193067305369\n",
      "1094.7221903602253\n"
     ]
    }
   ],
   "source": [
    "gdb_pred = gdb_reg.predict(X_val)\n",
    "print(gdb_reg.score(X_train,y_train))\n",
    "print(gdb_reg.score(X_val,y_val))\n",
    "print (np.sqrt(mean_squared_error(y_val,gdb_pred)))\n",
    "# print(explained_variance_score(y_val,gdb_pred))"
   ]
  },
  {
   "cell_type": "code",
   "execution_count": 167,
   "metadata": {},
   "outputs": [],
   "source": [
    "#  Parameter tuning for GradientBoost"
   ]
  },
  {
   "cell_type": "code",
   "execution_count": 175,
   "metadata": {},
   "outputs": [],
   "source": [
    "n_estimators = [int(x) for x in np.linspace(start = 10, stop = 100, num = 10)]\n",
    "learning_rate = [0.01,0.05,0.1,0.3,1,0.5]\n",
    "max_depth = [int(x) for x in np.linspace(2, 100, num = 11)]\n",
    "max_depth.append(None)\n",
    "# Minimum number of samples required to split a node\n",
    "min_samples_split = [2, 5, 10]\n",
    "# Minimum number of samples required at each leaf node\n",
    "min_samples_leaf = [1, 2, 4]\n",
    "\n",
    "max_features = ['auto']\n",
    "\n",
    "# Create the random grid\n",
    "param_grid = {'n_estimators': n_estimators,'learning_rate': learning_rate,\n",
    "              'max_depth':max_depth,'min_samples_split':min_samples_split,\n",
    "               'min_samples_leaf':min_samples_leaf, 'max_features': max_features\n",
    "             \n",
    "             }"
   ]
  },
  {
   "cell_type": "code",
   "execution_count": 176,
   "metadata": {},
   "outputs": [],
   "source": [
    "random_rv2 = RandomizedSearchCV(estimator = gdb_reg,param_distributions = param_grid, cv = 10,n_iter = 10, random_state= 1)"
   ]
  },
  {
   "cell_type": "code",
   "execution_count": 177,
   "metadata": {},
   "outputs": [
    {
     "data": {
      "text/plain": [
       "RandomizedSearchCV(cv=10, error_score='raise-deprecating',\n",
       "          estimator=GradientBoostingRegressor(alpha=0.9, criterion='friedman_mse', init=None,\n",
       "             learning_rate=0.1, loss='ls', max_depth=3, max_features=None,\n",
       "             max_leaf_nodes=None, min_impurity_decrease=0.0,\n",
       "             min_impurity_split=None, min_samples_leaf=1,\n",
       "             min_sampl...ate=1, subsample=1.0, tol=0.0001,\n",
       "             validation_fraction=0.1, verbose=0, warm_start=False),\n",
       "          fit_params=None, iid='warn', n_iter=10, n_jobs=None,\n",
       "          param_distributions={'n_estimators': [10, 20, 30, 40, 50, 60, 70, 80, 90, 100], 'learning_rate': [0.01, 0.05, 0.1, 0.3, 1, 0.5], 'max_depth': [2, 11, 21, 31, 41, 51, 60, 70, 80, 90, 100, None], 'min_samples_split': [2, 5, 10], 'min_samples_leaf': [1, 2, 4], 'max_features': ['auto']},\n",
       "          pre_dispatch='2*n_jobs', random_state=1, refit=True,\n",
       "          return_train_score='warn', scoring=None, verbose=0)"
      ]
     },
     "execution_count": 177,
     "metadata": {},
     "output_type": "execute_result"
    }
   ],
   "source": [
    "random_rv2.fit(X_train,y_train)"
   ]
  },
  {
   "cell_type": "code",
   "execution_count": 178,
   "metadata": {},
   "outputs": [
    {
     "data": {
      "text/plain": [
       "GradientBoostingRegressor(alpha=0.9, criterion='friedman_mse', init=None,\n",
       "             learning_rate=0.1, loss='ls', max_depth=60,\n",
       "             max_features='auto', max_leaf_nodes=None,\n",
       "             min_impurity_decrease=0.0, min_impurity_split=None,\n",
       "             min_samples_leaf=4, min_samples_split=2,\n",
       "             min_weight_fraction_leaf=0.0, n_estimators=40,\n",
       "             n_iter_no_change=None, presort='auto', random_state=1,\n",
       "             subsample=1.0, tol=0.0001, validation_fraction=0.1, verbose=0,\n",
       "             warm_start=False)"
      ]
     },
     "execution_count": 178,
     "metadata": {},
     "output_type": "execute_result"
    }
   ],
   "source": [
    "random_rv2.best_estimator_"
   ]
  },
  {
   "cell_type": "code",
   "execution_count": 179,
   "metadata": {},
   "outputs": [],
   "source": [
    "gdb_reg_new = GradientBoostingRegressor(alpha=0.9, criterion='friedman_mse', init=None,\n",
    "             learning_rate=0.1, loss='ls', max_depth=60,\n",
    "             max_features='auto', max_leaf_nodes=None,\n",
    "             min_impurity_decrease=0.0, min_impurity_split=None,\n",
    "             min_samples_leaf=4, min_samples_split=2,\n",
    "             min_weight_fraction_leaf=0.0, n_estimators=40,\n",
    "             n_iter_no_change=None, presort='auto', random_state=1,\n",
    "             subsample=1.0, tol=0.0001, validation_fraction=0.1, verbose=0,\n",
    "             warm_start=False)"
   ]
  },
  {
   "cell_type": "code",
   "execution_count": 180,
   "metadata": {},
   "outputs": [
    {
     "data": {
      "text/plain": [
       "GradientBoostingRegressor(alpha=0.9, criterion='friedman_mse', init=None,\n",
       "             learning_rate=0.1, loss='ls', max_depth=60,\n",
       "             max_features='auto', max_leaf_nodes=None,\n",
       "             min_impurity_decrease=0.0, min_impurity_split=None,\n",
       "             min_samples_leaf=4, min_samples_split=2,\n",
       "             min_weight_fraction_leaf=0.0, n_estimators=40,\n",
       "             n_iter_no_change=None, presort='auto', random_state=1,\n",
       "             subsample=1.0, tol=0.0001, validation_fraction=0.1, verbose=0,\n",
       "             warm_start=False)"
      ]
     },
     "execution_count": 180,
     "metadata": {},
     "output_type": "execute_result"
    }
   ],
   "source": [
    "gdb_reg_new.fit(X_train,y_train)"
   ]
  },
  {
   "cell_type": "code",
   "execution_count": 182,
   "metadata": {},
   "outputs": [
    {
     "name": "stdout",
     "output_type": "stream",
     "text": [
      "0.6210807984362223\n",
      "0.5957193067305369\n",
      "1250.0184447235567\n"
     ]
    }
   ],
   "source": [
    "gdb_pred_new = gdb_reg_new.predict(X_test)\n",
    "print(gdb_reg.score(X_train,y_train))\n",
    "print(gdb_reg.score(X_test,y_test))\n",
    "print (np.sqrt(mean_squared_error(y_test,gdb_pred_new)))"
   ]
  },
  {
   "cell_type": "code",
   "execution_count": 183,
   "metadata": {},
   "outputs": [],
   "source": [
    "# Implement XGBoostRegressor--- ! pip install xgboost==0.80\n"
   ]
  },
  {
   "cell_type": "code",
   "execution_count": 41,
   "metadata": {},
   "outputs": [],
   "source": [
    "\n",
    "import xgboost as xgb\n",
    "import os\n",
    "os.environ['KMP_DUPLICATE_LIB_OK']='True'"
   ]
  },
  {
   "cell_type": "code",
   "execution_count": 80,
   "metadata": {},
   "outputs": [],
   "source": [
    "xg_boost = xgb.XGBRegressor(n_estimators= 50, random_state=1, learning_rate=0.1, max_depth=2)"
   ]
  },
  {
   "cell_type": "code",
   "execution_count": 81,
   "metadata": {},
   "outputs": [
    {
     "data": {
      "text/plain": [
       "XGBRegressor(base_score=0.5, booster='gbtree', colsample_bylevel=1,\n",
       "       colsample_bytree=1, gamma=0, learning_rate=0.1, max_delta_step=0,\n",
       "       max_depth=2, min_child_weight=1, missing=None, n_estimators=50,\n",
       "       n_jobs=1, nthread=None, objective='reg:linear', random_state=1,\n",
       "       reg_alpha=0, reg_lambda=1, scale_pos_weight=1, seed=None,\n",
       "       silent=True, subsample=1)"
      ]
     },
     "execution_count": 81,
     "metadata": {},
     "output_type": "execute_result"
    }
   ],
   "source": [
    "xg_boost.fit(X_train,y_train)"
   ]
  },
  {
   "cell_type": "code",
   "execution_count": 82,
   "metadata": {},
   "outputs": [
    {
     "name": "stdout",
     "output_type": "stream",
     "text": [
      "0.6070007233141463\n",
      "0.596248710843533\n",
      "1094.0051881709737\n"
     ]
    }
   ],
   "source": [
    "xg_boost_pred = xg_boost.predict(X_val)\n",
    "print(xg_boost.score(X_train,y_train))\n",
    "print(xg_boost.score(X_val,y_val))\n",
    "print (np.sqrt(mean_squared_error(y_val,xg_boost_pred)))\n",
    "# print(explained_variance_score(y_val,gdb_pred))\n"
   ]
  },
  {
   "cell_type": "code",
   "execution_count": 83,
   "metadata": {},
   "outputs": [],
   "source": [
    "# Hyperparameter tunining for XGBoost\n",
    "xgb.XGBRegressor(n_estimators= 50, random_state=1, learning_rate=0.1, max_depth=2)"
   ]
  },
  {
   "cell_type": "code",
   "execution_count": 105,
   "metadata": {},
   "outputs": [],
   "source": [
    "n_estimators = [int(x) for x in np.linspace(start = 10, stop = 100, num = 10)]\n",
    "learning_rate = [0.01,0.05,0.1,0.3,1,0.5,0.025,0.015]\n",
    "max_depth = [3,5,7,9,12,15,17,25]\n",
    "min_child_weight = [1,3,5,7]\n",
    "gamma= [0.3,0.5,0.7,0.9,1.0]\n",
    "subsample = [0.6,0.7,0.8,0.9,1.0]\n",
    "colsample_bytree = [0.6,0.7,0.8,0.9,1.0]\n",
    "reg_lambda = [0.01]\n",
    "# Create the random grid\n",
    "param_grid_xg= {'n_estimators': n_estimators,'learning_rate': learning_rate,\n",
    "              'max_depth':max_depth,'min_child_weight':min_child_weight,'gamma':gamma,\n",
    "            'subsample': subsample,\n",
    "   'colsample_bytree': colsample_bytree,'reg_lambda':reg_lambda \n",
    "    \n",
    "    \n",
    "}\n",
    "              \n",
    "    \n"
   ]
  },
  {
   "cell_type": "code",
   "execution_count": 106,
   "metadata": {},
   "outputs": [],
   "source": [
    "random_rv3 = RandomizedSearchCV(estimator = xg_boost,param_distributions = param_grid_xg, cv = 10,n_iter = 10, random_state= 1)"
   ]
  },
  {
   "cell_type": "code",
   "execution_count": 107,
   "metadata": {},
   "outputs": [
    {
     "data": {
      "text/plain": [
       "RandomizedSearchCV(cv=10, error_score='raise-deprecating',\n",
       "          estimator=XGBRegressor(base_score=0.5, booster='gbtree', colsample_bylevel=1,\n",
       "       colsample_bytree=1, gamma=0, learning_rate=0.1, max_delta_step=0,\n",
       "       max_depth=2, min_child_weight=1, missing=None, n_estimators=50,\n",
       "       n_jobs=1, nthread=None, objective='reg:linear', random_state=1,\n",
       "       reg_alpha=0, reg_lambda=1, scale_pos_weight=1, seed=None,\n",
       "       silent=True, subsample=1),\n",
       "          fit_params=None, iid='warn', n_iter=10, n_jobs=None,\n",
       "          param_distributions={'n_estimators': [10, 20, 30, 40, 50, 60, 70, 80, 90, 100], 'learning_rate': [0.01, 0.05, 0.1, 0.3, 1, 0.5, 0.025, 0.015], 'max_depth': [3, 5, 7, 9, 12, 15, 17, 25], 'min_child_weight': [1, 3, 5, 7], 'gamma': [0.3, 0.5, 0.7, 0.9, 1.0], 'subsample': [0.6, 0.7, 0.8, 0.9, 1.0], 'colsample_bytree': [0.6, 0.7, 0.8, 0.9, 1.0], 'reg_lambda': [0.01]},\n",
       "          pre_dispatch='2*n_jobs', random_state=1, refit=True,\n",
       "          return_train_score='warn', scoring=None, verbose=0)"
      ]
     },
     "execution_count": 107,
     "metadata": {},
     "output_type": "execute_result"
    }
   ],
   "source": [
    "random_rv3.fit(X_train,y_train)"
   ]
  },
  {
   "cell_type": "code",
   "execution_count": 108,
   "metadata": {},
   "outputs": [
    {
     "data": {
      "text/plain": [
       "XGBRegressor(base_score=0.5, booster='gbtree', colsample_bylevel=1,\n",
       "       colsample_bytree=1.0, gamma=1.0, learning_rate=0.3,\n",
       "       max_delta_step=0, max_depth=5, min_child_weight=1, missing=None,\n",
       "       n_estimators=10, n_jobs=1, nthread=None, objective='reg:linear',\n",
       "       random_state=1, reg_alpha=0, reg_lambda=0.01, scale_pos_weight=1,\n",
       "       seed=None, silent=True, subsample=0.7)"
      ]
     },
     "execution_count": 108,
     "metadata": {},
     "output_type": "execute_result"
    }
   ],
   "source": [
    "random_rv3.best_estimator_"
   ]
  },
  {
   "cell_type": "code",
   "execution_count": 110,
   "metadata": {},
   "outputs": [],
   "source": [
    "xg_boost_new = xgb.XGBRegressor(base_score=0.5, booster='gbtree', colsample_bylevel=1,\n",
    "       colsample_bytree=1.0, gamma=1.0, learning_rate=0.3,\n",
    "       max_delta_step=0, max_depth=5, min_child_weight=1, missing=None,\n",
    "       n_estimators=10, n_jobs=1, nthread=None, objective='reg:linear',\n",
    "       random_state=1, reg_alpha=0, reg_lambda=0.01, scale_pos_weight=1,\n",
    "       seed=None, silent=True, subsample=0.7)"
   ]
  },
  {
   "cell_type": "code",
   "execution_count": 111,
   "metadata": {},
   "outputs": [
    {
     "data": {
      "text/plain": [
       "XGBRegressor(base_score=0.5, booster='gbtree', colsample_bylevel=1,\n",
       "       colsample_bytree=1.0, gamma=1.0, learning_rate=0.3,\n",
       "       max_delta_step=0, max_depth=5, min_child_weight=1, missing=None,\n",
       "       n_estimators=10, n_jobs=1, nthread=None, objective='reg:linear',\n",
       "       random_state=1, reg_alpha=0, reg_lambda=0.01, scale_pos_weight=1,\n",
       "       seed=None, silent=True, subsample=0.7)"
      ]
     },
     "execution_count": 111,
     "metadata": {},
     "output_type": "execute_result"
    }
   ],
   "source": [
    "xg_boost_new.fit(X_train,y_train)"
   ]
  },
  {
   "cell_type": "code",
   "execution_count": 114,
   "metadata": {},
   "outputs": [
    {
     "name": "stdout",
     "output_type": "stream",
     "text": [
      "0.6320200779337751\n",
      "0.5870341093290039\n",
      "1106.4187109868155\n"
     ]
    }
   ],
   "source": [
    "xg_boost_pred_new = xg_boost_new.predict(X_test)\n",
    "print(xg_boost_new.score(X_train,y_train))\n",
    "print(xg_boost_new.score(X_test,y_test))\n",
    "print (np.sqrt(mean_squared_error(y_test,xg_boost_pred_new)))\n",
    "\n",
    "\n",
    "#  Turning into Overfitting"
   ]
  },
  {
   "cell_type": "code",
   "execution_count": 115,
   "metadata": {},
   "outputs": [],
   "source": [
    "#  Looking at the above Models min RMSE is for XGBoost so far.."
   ]
  },
  {
   "cell_type": "code",
   "execution_count": 116,
   "metadata": {},
   "outputs": [],
   "source": []
  },
  {
   "cell_type": "code",
   "execution_count": null,
   "metadata": {},
   "outputs": [],
   "source": []
  }
 ],
 "metadata": {
  "kernelspec": {
   "display_name": "Python 3",
   "language": "python",
   "name": "python3"
  },
  "language_info": {
   "codemirror_mode": {
    "name": "ipython",
    "version": 3
   },
   "file_extension": ".py",
   "mimetype": "text/x-python",
   "name": "python",
   "nbconvert_exporter": "python",
   "pygments_lexer": "ipython3",
   "version": "3.6.7"
  }
 },
 "nbformat": 4,
 "nbformat_minor": 2
}
